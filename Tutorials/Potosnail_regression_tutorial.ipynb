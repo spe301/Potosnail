{
 "cells": [
  {
   "cell_type": "markdown",
   "metadata": {},
   "source": [
    "## Importing libraries and data"
   ]
  },
  {
   "cell_type": "code",
   "execution_count": 29,
   "metadata": {},
   "outputs": [],
   "source": [
    "from potosnail import MachineLearning, DeepLearning, DataHelper, Evaluater\n",
    "from sklearn.datasets import load_boston #loading boston housing data\n",
    "import pandas as pd\n",
    "\n",
    "# class instantiations\n",
    "ml = MachineLearning()\n",
    "dl = DeepLearning()\n",
    "dh = DataHelper()\n",
    "ev = Evaluater()"
   ]
  },
  {
   "cell_type": "markdown",
   "metadata": {},
   "source": [
    "## Create DataFrame"
   ]
  },
  {
   "cell_type": "code",
   "execution_count": 9,
   "metadata": {},
   "outputs": [
    {
     "data": {
      "text/html": [
       "<div>\n",
       "<style scoped>\n",
       "    .dataframe tbody tr th:only-of-type {\n",
       "        vertical-align: middle;\n",
       "    }\n",
       "\n",
       "    .dataframe tbody tr th {\n",
       "        vertical-align: top;\n",
       "    }\n",
       "\n",
       "    .dataframe thead th {\n",
       "        text-align: right;\n",
       "    }\n",
       "</style>\n",
       "<table border=\"1\" class=\"dataframe\">\n",
       "  <thead>\n",
       "    <tr style=\"text-align: right;\">\n",
       "      <th></th>\n",
       "      <th>CRIM</th>\n",
       "      <th>ZN</th>\n",
       "      <th>INDUS</th>\n",
       "      <th>CHAS</th>\n",
       "      <th>NOX</th>\n",
       "      <th>RM</th>\n",
       "      <th>AGE</th>\n",
       "      <th>DIS</th>\n",
       "      <th>RAD</th>\n",
       "      <th>TAX</th>\n",
       "      <th>PTRATIO</th>\n",
       "      <th>B</th>\n",
       "      <th>LSTAT</th>\n",
       "      <th>price</th>\n",
       "    </tr>\n",
       "  </thead>\n",
       "  <tbody>\n",
       "    <tr>\n",
       "      <th>0</th>\n",
       "      <td>0.00632</td>\n",
       "      <td>18.0</td>\n",
       "      <td>2.31</td>\n",
       "      <td>0.0</td>\n",
       "      <td>0.538</td>\n",
       "      <td>6.575</td>\n",
       "      <td>65.2</td>\n",
       "      <td>4.0900</td>\n",
       "      <td>1.0</td>\n",
       "      <td>296.0</td>\n",
       "      <td>15.3</td>\n",
       "      <td>396.90</td>\n",
       "      <td>4.98</td>\n",
       "      <td>24.0</td>\n",
       "    </tr>\n",
       "    <tr>\n",
       "      <th>1</th>\n",
       "      <td>0.02731</td>\n",
       "      <td>0.0</td>\n",
       "      <td>7.07</td>\n",
       "      <td>0.0</td>\n",
       "      <td>0.469</td>\n",
       "      <td>6.421</td>\n",
       "      <td>78.9</td>\n",
       "      <td>4.9671</td>\n",
       "      <td>2.0</td>\n",
       "      <td>242.0</td>\n",
       "      <td>17.8</td>\n",
       "      <td>396.90</td>\n",
       "      <td>9.14</td>\n",
       "      <td>21.6</td>\n",
       "    </tr>\n",
       "    <tr>\n",
       "      <th>2</th>\n",
       "      <td>0.02729</td>\n",
       "      <td>0.0</td>\n",
       "      <td>7.07</td>\n",
       "      <td>0.0</td>\n",
       "      <td>0.469</td>\n",
       "      <td>7.185</td>\n",
       "      <td>61.1</td>\n",
       "      <td>4.9671</td>\n",
       "      <td>2.0</td>\n",
       "      <td>242.0</td>\n",
       "      <td>17.8</td>\n",
       "      <td>392.83</td>\n",
       "      <td>4.03</td>\n",
       "      <td>34.7</td>\n",
       "    </tr>\n",
       "    <tr>\n",
       "      <th>3</th>\n",
       "      <td>0.03237</td>\n",
       "      <td>0.0</td>\n",
       "      <td>2.18</td>\n",
       "      <td>0.0</td>\n",
       "      <td>0.458</td>\n",
       "      <td>6.998</td>\n",
       "      <td>45.8</td>\n",
       "      <td>6.0622</td>\n",
       "      <td>3.0</td>\n",
       "      <td>222.0</td>\n",
       "      <td>18.7</td>\n",
       "      <td>394.63</td>\n",
       "      <td>2.94</td>\n",
       "      <td>33.4</td>\n",
       "    </tr>\n",
       "    <tr>\n",
       "      <th>4</th>\n",
       "      <td>0.06905</td>\n",
       "      <td>0.0</td>\n",
       "      <td>2.18</td>\n",
       "      <td>0.0</td>\n",
       "      <td>0.458</td>\n",
       "      <td>7.147</td>\n",
       "      <td>54.2</td>\n",
       "      <td>6.0622</td>\n",
       "      <td>3.0</td>\n",
       "      <td>222.0</td>\n",
       "      <td>18.7</td>\n",
       "      <td>396.90</td>\n",
       "      <td>5.33</td>\n",
       "      <td>36.2</td>\n",
       "    </tr>\n",
       "  </tbody>\n",
       "</table>\n",
       "</div>"
      ],
      "text/plain": [
       "      CRIM    ZN  INDUS  CHAS    NOX     RM   AGE     DIS  RAD    TAX  \\\n",
       "0  0.00632  18.0   2.31   0.0  0.538  6.575  65.2  4.0900  1.0  296.0   \n",
       "1  0.02731   0.0   7.07   0.0  0.469  6.421  78.9  4.9671  2.0  242.0   \n",
       "2  0.02729   0.0   7.07   0.0  0.469  7.185  61.1  4.9671  2.0  242.0   \n",
       "3  0.03237   0.0   2.18   0.0  0.458  6.998  45.8  6.0622  3.0  222.0   \n",
       "4  0.06905   0.0   2.18   0.0  0.458  7.147  54.2  6.0622  3.0  222.0   \n",
       "\n",
       "   PTRATIO       B  LSTAT  price  \n",
       "0     15.3  396.90   4.98   24.0  \n",
       "1     17.8  396.90   9.14   21.6  \n",
       "2     17.8  392.83   4.03   34.7  \n",
       "3     18.7  394.63   2.94   33.4  \n",
       "4     18.7  396.90   5.33   36.2  "
      ]
     },
     "execution_count": 9,
     "metadata": {},
     "output_type": "execute_result"
    }
   ],
   "source": [
    "df = pd.DataFrame(load_boston()['data'])\n",
    "df.columns = list(load_boston()['feature_names'])\n",
    "df['price'] = load_boston()['target']\n",
    "df.head()"
   ]
  },
  {
   "cell_type": "markdown",
   "metadata": {},
   "source": [
    "## Standard scaling data for better results"
   ]
  },
  {
   "cell_type": "code",
   "execution_count": 18,
   "metadata": {},
   "outputs": [
    {
     "data": {
      "text/html": [
       "<div>\n",
       "<style scoped>\n",
       "    .dataframe tbody tr th:only-of-type {\n",
       "        vertical-align: middle;\n",
       "    }\n",
       "\n",
       "    .dataframe tbody tr th {\n",
       "        vertical-align: top;\n",
       "    }\n",
       "\n",
       "    .dataframe thead th {\n",
       "        text-align: right;\n",
       "    }\n",
       "</style>\n",
       "<table border=\"1\" class=\"dataframe\">\n",
       "  <thead>\n",
       "    <tr style=\"text-align: right;\">\n",
       "      <th></th>\n",
       "      <th>0</th>\n",
       "      <th>1</th>\n",
       "      <th>2</th>\n",
       "      <th>3</th>\n",
       "      <th>4</th>\n",
       "      <th>5</th>\n",
       "      <th>6</th>\n",
       "      <th>7</th>\n",
       "      <th>8</th>\n",
       "      <th>9</th>\n",
       "      <th>10</th>\n",
       "      <th>11</th>\n",
       "      <th>12</th>\n",
       "      <th>price</th>\n",
       "    </tr>\n",
       "  </thead>\n",
       "  <tbody>\n",
       "    <tr>\n",
       "      <th>0</th>\n",
       "      <td>-0.419782</td>\n",
       "      <td>0.284830</td>\n",
       "      <td>-1.287909</td>\n",
       "      <td>-0.272599</td>\n",
       "      <td>-0.144217</td>\n",
       "      <td>0.413672</td>\n",
       "      <td>-0.120013</td>\n",
       "      <td>0.140214</td>\n",
       "      <td>-0.982843</td>\n",
       "      <td>-0.666608</td>\n",
       "      <td>-1.459000</td>\n",
       "      <td>0.441052</td>\n",
       "      <td>-1.075562</td>\n",
       "      <td>24.0</td>\n",
       "    </tr>\n",
       "    <tr>\n",
       "      <th>1</th>\n",
       "      <td>-0.417339</td>\n",
       "      <td>-0.487722</td>\n",
       "      <td>-0.593381</td>\n",
       "      <td>-0.272599</td>\n",
       "      <td>-0.740262</td>\n",
       "      <td>0.194274</td>\n",
       "      <td>0.367166</td>\n",
       "      <td>0.557160</td>\n",
       "      <td>-0.867883</td>\n",
       "      <td>-0.987329</td>\n",
       "      <td>-0.303094</td>\n",
       "      <td>0.441052</td>\n",
       "      <td>-0.492439</td>\n",
       "      <td>21.6</td>\n",
       "    </tr>\n",
       "    <tr>\n",
       "      <th>2</th>\n",
       "      <td>-0.417342</td>\n",
       "      <td>-0.487722</td>\n",
       "      <td>-0.593381</td>\n",
       "      <td>-0.272599</td>\n",
       "      <td>-0.740262</td>\n",
       "      <td>1.282714</td>\n",
       "      <td>-0.265812</td>\n",
       "      <td>0.557160</td>\n",
       "      <td>-0.867883</td>\n",
       "      <td>-0.987329</td>\n",
       "      <td>-0.303094</td>\n",
       "      <td>0.396427</td>\n",
       "      <td>-1.208727</td>\n",
       "      <td>34.7</td>\n",
       "    </tr>\n",
       "    <tr>\n",
       "      <th>3</th>\n",
       "      <td>-0.416750</td>\n",
       "      <td>-0.487722</td>\n",
       "      <td>-1.306878</td>\n",
       "      <td>-0.272599</td>\n",
       "      <td>-0.835284</td>\n",
       "      <td>1.016303</td>\n",
       "      <td>-0.809889</td>\n",
       "      <td>1.077737</td>\n",
       "      <td>-0.752922</td>\n",
       "      <td>-1.106115</td>\n",
       "      <td>0.113032</td>\n",
       "      <td>0.416163</td>\n",
       "      <td>-1.361517</td>\n",
       "      <td>33.4</td>\n",
       "    </tr>\n",
       "    <tr>\n",
       "      <th>4</th>\n",
       "      <td>-0.412482</td>\n",
       "      <td>-0.487722</td>\n",
       "      <td>-1.306878</td>\n",
       "      <td>-0.272599</td>\n",
       "      <td>-0.835284</td>\n",
       "      <td>1.228577</td>\n",
       "      <td>-0.511180</td>\n",
       "      <td>1.077737</td>\n",
       "      <td>-0.752922</td>\n",
       "      <td>-1.106115</td>\n",
       "      <td>0.113032</td>\n",
       "      <td>0.441052</td>\n",
       "      <td>-1.026501</td>\n",
       "      <td>36.2</td>\n",
       "    </tr>\n",
       "  </tbody>\n",
       "</table>\n",
       "</div>"
      ],
      "text/plain": [
       "          0         1         2         3         4         5         6  \\\n",
       "0 -0.419782  0.284830 -1.287909 -0.272599 -0.144217  0.413672 -0.120013   \n",
       "1 -0.417339 -0.487722 -0.593381 -0.272599 -0.740262  0.194274  0.367166   \n",
       "2 -0.417342 -0.487722 -0.593381 -0.272599 -0.740262  1.282714 -0.265812   \n",
       "3 -0.416750 -0.487722 -1.306878 -0.272599 -0.835284  1.016303 -0.809889   \n",
       "4 -0.412482 -0.487722 -1.306878 -0.272599 -0.835284  1.228577 -0.511180   \n",
       "\n",
       "          7         8         9        10        11        12  price  \n",
       "0  0.140214 -0.982843 -0.666608 -1.459000  0.441052 -1.075562   24.0  \n",
       "1  0.557160 -0.867883 -0.987329 -0.303094  0.441052 -0.492439   21.6  \n",
       "2  0.557160 -0.867883 -0.987329 -0.303094  0.396427 -1.208727   34.7  \n",
       "3  1.077737 -0.752922 -1.106115  0.113032  0.416163 -1.361517   33.4  \n",
       "4  1.077737 -0.752922 -1.106115  0.113032  0.441052 -1.026501   36.2  "
      ]
     },
     "execution_count": 18,
     "metadata": {},
     "output_type": "execute_result"
    }
   ],
   "source": [
    "df2 = dh.ScaleData('standard', df, 'price')\n",
    "df2['price'] = df['price']\n",
    "df2.head()"
   ]
  },
  {
   "cell_type": "markdown",
   "metadata": {},
   "source": [
    "## Creating train and validation sets"
   ]
  },
  {
   "cell_type": "code",
   "execution_count": 19,
   "metadata": {},
   "outputs": [],
   "source": [
    "train, test = dh.HoldOut(df2) # using HoldOut function"
   ]
  },
  {
   "cell_type": "markdown",
   "metadata": {},
   "source": [
    "## Using CompareModels function to pick the best model"
   ]
  },
  {
   "cell_type": "code",
   "execution_count": 20,
   "metadata": {},
   "outputs": [
    {
     "data": {
      "text/html": [
       "<div>\n",
       "<style scoped>\n",
       "    .dataframe tbody tr th:only-of-type {\n",
       "        vertical-align: middle;\n",
       "    }\n",
       "\n",
       "    .dataframe tbody tr th {\n",
       "        vertical-align: top;\n",
       "    }\n",
       "\n",
       "    .dataframe thead th {\n",
       "        text-align: right;\n",
       "    }\n",
       "</style>\n",
       "<table border=\"1\" class=\"dataframe\">\n",
       "  <thead>\n",
       "    <tr style=\"text-align: right;\">\n",
       "      <th></th>\n",
       "      <th>Model</th>\n",
       "      <th>train_acc</th>\n",
       "      <th>test_acc</th>\n",
       "    </tr>\n",
       "  </thead>\n",
       "  <tbody>\n",
       "    <tr>\n",
       "      <th>0</th>\n",
       "      <td>Lin</td>\n",
       "      <td>0.760248</td>\n",
       "      <td>0.683695</td>\n",
       "    </tr>\n",
       "    <tr>\n",
       "      <th>1</th>\n",
       "      <td>KNN</td>\n",
       "      <td>0.853744</td>\n",
       "      <td>0.689761</td>\n",
       "    </tr>\n",
       "    <tr>\n",
       "      <th>2</th>\n",
       "      <td>DT</td>\n",
       "      <td>1.000000</td>\n",
       "      <td>0.726291</td>\n",
       "    </tr>\n",
       "    <tr>\n",
       "      <th>3</th>\n",
       "      <td>RF</td>\n",
       "      <td>0.978223</td>\n",
       "      <td>0.759149</td>\n",
       "    </tr>\n",
       "    <tr>\n",
       "      <th>4</th>\n",
       "      <td>AB</td>\n",
       "      <td>0.911746</td>\n",
       "      <td>0.655549</td>\n",
       "    </tr>\n",
       "    <tr>\n",
       "      <th>5</th>\n",
       "      <td>GB</td>\n",
       "      <td>0.982332</td>\n",
       "      <td>0.797098</td>\n",
       "    </tr>\n",
       "    <tr>\n",
       "      <th>6</th>\n",
       "      <td>XGB</td>\n",
       "      <td>0.999999</td>\n",
       "      <td>0.761519</td>\n",
       "    </tr>\n",
       "    <tr>\n",
       "      <th>7</th>\n",
       "      <td>SVM</td>\n",
       "      <td>0.657390</td>\n",
       "      <td>0.574316</td>\n",
       "    </tr>\n",
       "  </tbody>\n",
       "</table>\n",
       "</div>"
      ],
      "text/plain": [
       "  Model  train_acc  test_acc\n",
       "0   Lin   0.760248  0.683695\n",
       "1   KNN   0.853744  0.689761\n",
       "2    DT   1.000000  0.726291\n",
       "3    RF   0.978223  0.759149\n",
       "4    AB   0.911746  0.655549\n",
       "5    GB   0.982332  0.797098\n",
       "6   XGB   0.999999  0.761519\n",
       "7   SVM   0.657390  0.574316"
      ]
     },
     "execution_count": 20,
     "metadata": {},
     "output_type": "execute_result"
    }
   ],
   "source": [
    "ml.CompareModels(train, 'price', 'regression')"
   ]
  },
  {
   "cell_type": "markdown",
   "metadata": {},
   "source": [
    "## Time to Optimize a model!!"
   ]
  },
  {
   "cell_type": "markdown",
   "metadata": {},
   "source": [
    "Let's go with GB, GradientBoostedRegressor :)"
   ]
  },
  {
   "cell_type": "code",
   "execution_count": 25,
   "metadata": {},
   "outputs": [
    {
     "name": "stdout",
     "output_type": "stream",
     "text": [
      "Fitting 5 folds for each of 4 candidates, totalling 20 fits\n"
     ]
    },
    {
     "name": "stderr",
     "output_type": "stream",
     "text": [
      "[Parallel(n_jobs=-1)]: Using backend LokyBackend with 12 concurrent workers.\n",
      "[Parallel(n_jobs=-1)]: Done   8 out of  20 | elapsed:    0.0s remaining:    0.1s\n"
     ]
    },
    {
     "name": "stdout",
     "output_type": "stream",
     "text": [
      "Fitting 5 folds for each of 4 candidates, totalling 20 fits\n"
     ]
    },
    {
     "name": "stderr",
     "output_type": "stream",
     "text": [
      "[Parallel(n_jobs=-1)]: Using backend LokyBackend with 12 concurrent workers.\n",
      "[Parallel(n_jobs=-1)]: Done   8 out of  20 | elapsed:    2.9s remaining:    4.3s\n",
      "[Parallel(n_jobs=-1)]: Done  20 out of  20 | elapsed:    3.0s finished\n"
     ]
    },
    {
     "data": {
      "text/plain": [
       "GradientBoostingRegressor()"
      ]
     },
     "execution_count": 25,
     "metadata": {},
     "output_type": "execute_result"
    }
   ],
   "source": [
    "from sklearn.ensemble import GradientBoostingRegressor\n",
    "\n",
    "params = {'loss': ['ls', 'lad'], 'learning_rate': [0.01, 0.1]}\n",
    "reg = ml.Optimize(GradientBoostingRegressor(), params, train, 'price')\n",
    "reg"
   ]
  },
  {
   "cell_type": "markdown",
   "metadata": {},
   "source": [
    "## Evaluation"
   ]
  },
  {
   "cell_type": "code",
   "execution_count": 31,
   "metadata": {},
   "outputs": [
    {
     "data": {
      "text/plain": [
       "(    predicted  actual     error     %error\n",
       " 0   21.424028    22.4  0.975972   4.357018\n",
       " 1   35.359125    35.4  0.040875   0.115466\n",
       " 2   21.964439    24.3  2.335561   9.611362\n",
       " 3   16.331096    13.1  3.231096   0.802151\n",
       " 4   29.064148    26.6  2.464148   0.915217\n",
       " 5   18.090452    19.1  1.009548   5.285590\n",
       " 6   16.026740    15.2  0.826740   0.948415\n",
       " 7   29.551693    26.7  2.851693   0.903502\n",
       " 8   15.086581    11.8  3.286581   0.782152\n",
       " 9   35.505273    33.8  1.705273   0.951971\n",
       " 10  21.821389    22.0  0.178611   0.811868\n",
       " 11  13.807309    14.5  0.692691   4.777176\n",
       " 12  27.004554    23.9  3.104554   0.885036\n",
       " 13  26.287001    22.0  4.287001   0.836916\n",
       " 14  11.614508    11.0  0.614508   0.947091\n",
       " 15  35.151346    32.9  2.251346   0.935953\n",
       " 16  25.374251    25.0  0.374251   0.985251\n",
       " 17  26.110782    24.8  1.310782   0.949799\n",
       " 18  27.337310    27.5  0.162690   0.591599\n",
       " 19  17.579095    16.7  0.879095   0.949992\n",
       " 20  22.891648    24.6  1.708352   6.944520\n",
       " 21  19.347614    19.6  0.252386   1.287682\n",
       " 22  41.899816    38.7  3.199816   0.923632\n",
       " 23  28.796033    32.2  3.403967  10.571328\n",
       " 24  11.964921    13.4  1.435079  10.709542\n",
       " 25  20.299854    19.9  0.399854   0.980303\n",
       " 26  19.060365    18.2  0.860365   0.954861\n",
       " 27  17.132702    14.9  2.232702   0.869682\n",
       " 28  36.995713    33.3  3.695713   0.900104\n",
       " 29  11.875968    13.4  1.524032  11.373371\n",
       " 30  32.539603    31.6  0.939603   0.971124\n",
       " 31  10.325265    14.9  4.574735  30.702916\n",
       " 32  23.129372    21.2  1.929372   0.916583\n",
       " 33  22.454818    22.9  0.445182   1.944026\n",
       " 34  14.647012    16.7  2.052988  12.293341\n",
       " 35  15.100721    19.1  3.999279  20.938635\n",
       " 36  23.720047    23.6  0.120047   0.994939\n",
       " 37  15.141176    13.1  2.041176   0.865190\n",
       " 38  16.450400    17.8  1.349600   7.582022\n",
       " 39  18.703080    19.4  0.696920   3.592369\n",
       " 40  22.612489    27.5  4.887511  17.772769\n",
       " 41  10.859470     8.4  2.459470   0.773518\n",
       " 42  48.105786    43.5  4.605786   0.904257\n",
       " 43  11.757918    10.2  1.557918   0.867501\n",
       " 44  15.449304    14.1  1.349304   0.912662\n",
       " 45  24.718836    23.8  0.918836   0.962829\n",
       " 46  38.421067    42.8  4.378933  10.231152\n",
       " 47  15.876854    12.6  3.276854   0.793608\n",
       " 48   8.994822    10.5  1.505178  14.335027\n",
       " 49  27.399371    28.4  1.000629   3.523342\n",
       " 50  15.498797    10.2  5.298797   0.658116,\n",
       " 5.916833097499585,\n",
       " 91.89)"
      ]
     },
     "execution_count": 31,
     "metadata": {},
     "output_type": "execute_result"
    }
   ],
   "source": [
    "X = train.drop(['price'], axis='columns')\n",
    "Xval = test.drop(['price'], axis='columns')\n",
    "y = train['price']\n",
    "yval = test['price']\n",
    "\n",
    "reg.fit(X, y)\n",
    "\n",
    "ev.EvaluateRegressor(reg, X, Xval, y, yval)"
   ]
  },
  {
   "cell_type": "markdown",
   "metadata": {},
   "source": [
    "RMSE is 5.92, accuracy is 91.89% !"
   ]
  },
  {
   "cell_type": "markdown",
   "metadata": {},
   "source": [
    "This performance is good but let's use VifIt to check for multicolinearity."
   ]
  },
  {
   "cell_type": "code",
   "execution_count": 33,
   "metadata": {},
   "outputs": [
    {
     "data": {
      "text/plain": [
       "0     1.802831\n",
       "1     2.192451\n",
       "2     3.776351\n",
       "3     1.084319\n",
       "4     4.333929\n",
       "5     2.061190\n",
       "6     2.982612\n",
       "7     3.835924\n",
       "8     7.035938\n",
       "9     8.359584\n",
       "10    1.719462\n",
       "11    1.340606\n",
       "12    3.012541\n",
       "dtype: float64"
      ]
     },
     "execution_count": 33,
     "metadata": {},
     "output_type": "execute_result"
    }
   ],
   "source": [
    "dh.VifIt(X)"
   ]
  },
  {
   "cell_type": "markdown",
   "metadata": {},
   "source": [
    "## We may do better without 'RAD' and 'Tax'"
   ]
  },
  {
   "cell_type": "code",
   "execution_count": 37,
   "metadata": {},
   "outputs": [
    {
     "data": {
      "image/png": "[encoded data removed]",
      "text/plain": [
       "<Figure size 432x288 with 1 Axes>"
      ]
     },
     "metadata": {
      "needs_background": "light"
     },
     "output_type": "display_data"
    }
   ],
   "source": [
    "import seaborn as sns\n",
    "from matplotlib import pyplot as plt\n",
    "\n",
    "sns.barplot(list(load_boston()['feature_names']), list(dh.VifIt(X)))\n",
    "plt.xlabel('feature')   \n",
    "plt.ylabel('Vif Score')\n",
    "plt.show()"
   ]
  },
  {
   "cell_type": "markdown",
   "metadata": {},
   "source": [
    "## Deep Learning approach"
   ]
  },
  {
   "cell_type": "markdown",
   "metadata": {},
   "source": [
    "X and y will be changed because deep learning models take in np.arrays rather than dataframes"
   ]
  },
  {
   "cell_type": "code",
   "execution_count": 38,
   "metadata": {},
   "outputs": [],
   "source": [
    "X = load_boston()['data']\n",
    "y = load_boston()['target']"
   ]
  },
  {
   "cell_type": "markdown",
   "metadata": {},
   "source": [
    "The following can also be done with DeepLearning().FastNN(), just be sure to set task to 'regression' and output_dim to 1"
   ]
  },
  {
   "cell_type": "code",
   "execution_count": 41,
   "metadata": {},
   "outputs": [],
   "source": [
    "nodes = 64 #first layer will have 64 nodes\n",
    "activation = 'relu'\n",
    "regularizer = 'L1' #used to prevent overfitting in neural networks\n",
    "stacking = True #our second layer will also have 64 nodes\n",
    "dropout = False # another solution to overfitting\n",
    "nlayers = 4 #the neural network will have 4 layers\n",
    "closer = False\n",
    "loss = 'mae' #we will use Mean Absolute Error loss function\n",
    "optimizer = 'rmsprop' #we will use Root Mean Squared Backpropagation for out optimization function\n",
    "y_col = 'price' #this parameter isn't actually used but CollectPreformance needs functions to take in 10 arguments\n",
    "model = dl.DeepTabularRegression(nodes, activation, regularizer, stacking, dropout, nlayers, closer, loss, optimizer, y_col)"
   ]
  },
  {
   "cell_type": "code",
   "execution_count": 42,
   "metadata": {},
   "outputs": [
    {
     "name": "stdout",
     "output_type": "stream",
     "text": [
      "Epoch 1/75\n",
      "13/13 [==============================] - 1s 15ms/step - loss: 16.6544 - val_loss: 7.7158\n",
      "Epoch 2/75\n",
      "13/13 [==============================] - 0s 4ms/step - loss: 7.8159 - val_loss: 7.2639\n",
      "Epoch 3/75\n",
      "13/13 [==============================] - 0s 3ms/step - loss: 7.4678 - val_loss: 8.0118\n",
      "Epoch 4/75\n",
      "13/13 [==============================] - 0s 3ms/step - loss: 6.7591 - val_loss: 7.1507\n",
      "Epoch 5/75\n",
      "13/13 [==============================] - 0s 3ms/step - loss: 6.5857 - val_loss: 5.8290\n",
      "Epoch 6/75\n",
      "13/13 [==============================] - 0s 3ms/step - loss: 6.9502 - val_loss: 10.5306\n",
      "Epoch 7/75\n",
      "13/13 [==============================] - 0s 4ms/step - loss: 6.8525 - val_loss: 11.8296\n",
      "Epoch 8/75\n",
      "13/13 [==============================] - 0s 4ms/step - loss: 6.4596 - val_loss: 7.2314\n",
      "Epoch 9/75\n",
      "13/13 [==============================] - 0s 3ms/step - loss: 6.6155 - val_loss: 9.5532\n",
      "Epoch 10/75\n",
      "13/13 [==============================] - 0s 3ms/step - loss: 7.2055 - val_loss: 10.8348\n",
      "Epoch 11/75\n",
      "13/13 [==============================] - 0s 3ms/step - loss: 6.5307 - val_loss: 8.9732\n",
      "Epoch 12/75\n",
      "13/13 [==============================] - 0s 3ms/step - loss: 6.6361 - val_loss: 10.6129\n",
      "Epoch 13/75\n",
      "13/13 [==============================] - 0s 3ms/step - loss: 6.6223 - val_loss: 6.9426\n",
      "Epoch 14/75\n",
      "13/13 [==============================] - 0s 3ms/step - loss: 6.4775 - val_loss: 6.3022\n",
      "Epoch 15/75\n",
      "13/13 [==============================] - 0s 4ms/step - loss: 5.8490 - val_loss: 6.5662\n",
      "Epoch 16/75\n",
      "13/13 [==============================] - 0s 3ms/step - loss: 6.2039 - val_loss: 6.5010\n",
      "Epoch 17/75\n",
      "13/13 [==============================] - 0s 3ms/step - loss: 6.1200 - val_loss: 6.0478\n",
      "Epoch 18/75\n",
      "13/13 [==============================] - 0s 4ms/step - loss: 5.9875 - val_loss: 7.2365\n",
      "Epoch 19/75\n",
      "13/13 [==============================] - 0s 4ms/step - loss: 6.1089 - val_loss: 6.7085\n",
      "Epoch 20/75\n",
      "13/13 [==============================] - 0s 3ms/step - loss: 5.4157 - val_loss: 9.0564\n",
      "Epoch 21/75\n",
      "13/13 [==============================] - 0s 3ms/step - loss: 6.2530 - val_loss: 10.4761\n",
      "Epoch 22/75\n",
      "13/13 [==============================] - 0s 4ms/step - loss: 5.7217 - val_loss: 6.6247\n",
      "Epoch 23/75\n",
      "13/13 [==============================] - 0s 4ms/step - loss: 6.2502 - val_loss: 5.4548\n",
      "Epoch 24/75\n",
      "13/13 [==============================] - 0s 4ms/step - loss: 6.2415 - val_loss: 7.4778\n",
      "Epoch 25/75\n",
      "13/13 [==============================] - 0s 3ms/step - loss: 5.2593 - val_loss: 8.2131\n",
      "Epoch 26/75\n",
      "13/13 [==============================] - 0s 3ms/step - loss: 5.6720 - val_loss: 7.3095\n",
      "Epoch 27/75\n",
      "13/13 [==============================] - 0s 4ms/step - loss: 6.4315 - val_loss: 6.4251\n",
      "Epoch 28/75\n",
      "13/13 [==============================] - 0s 4ms/step - loss: 5.5007 - val_loss: 11.0073\n",
      "Epoch 29/75\n",
      "13/13 [==============================] - 0s 4ms/step - loss: 5.5516 - val_loss: 9.7207\n",
      "Epoch 30/75\n",
      "13/13 [==============================] - 0s 4ms/step - loss: 5.9493 - val_loss: 8.0240\n",
      "Epoch 31/75\n",
      "13/13 [==============================] - 0s 4ms/step - loss: 5.1226 - val_loss: 6.4652\n",
      "Epoch 32/75\n",
      "13/13 [==============================] - 0s 4ms/step - loss: 5.4318 - val_loss: 9.1368\n",
      "Epoch 33/75\n",
      "13/13 [==============================] - 0s 3ms/step - loss: 5.3797 - val_loss: 8.9146\n",
      "Epoch 34/75\n",
      "13/13 [==============================] - 0s 4ms/step - loss: 5.6853 - val_loss: 7.3313\n",
      "Epoch 35/75\n",
      "13/13 [==============================] - 0s 4ms/step - loss: 5.2420 - val_loss: 7.5849\n",
      "Epoch 36/75\n",
      "13/13 [==============================] - 0s 4ms/step - loss: 5.4319 - val_loss: 6.5834\n",
      "Epoch 37/75\n",
      "13/13 [==============================] - 0s 4ms/step - loss: 5.5049 - val_loss: 7.5163\n",
      "Epoch 38/75\n",
      "13/13 [==============================] - 0s 4ms/step - loss: 6.1906 - val_loss: 6.2084\n",
      "Epoch 39/75\n",
      "13/13 [==============================] - 0s 4ms/step - loss: 5.0779 - val_loss: 6.7624\n",
      "Epoch 40/75\n",
      "13/13 [==============================] - 0s 4ms/step - loss: 5.3408 - val_loss: 6.7270\n",
      "Epoch 41/75\n",
      "13/13 [==============================] - 0s 4ms/step - loss: 5.4394 - val_loss: 7.6453\n",
      "Epoch 42/75\n",
      "13/13 [==============================] - 0s 4ms/step - loss: 5.1136 - val_loss: 6.7914\n",
      "Epoch 43/75\n",
      "13/13 [==============================] - 0s 4ms/step - loss: 4.9667 - val_loss: 7.0592\n",
      "Epoch 44/75\n",
      "13/13 [==============================] - 0s 4ms/step - loss: 4.9639 - val_loss: 8.2324\n",
      "Epoch 45/75\n",
      "13/13 [==============================] - 0s 4ms/step - loss: 5.0061 - val_loss: 7.5642\n",
      "Epoch 46/75\n",
      "13/13 [==============================] - 0s 4ms/step - loss: 5.2457 - val_loss: 12.1268\n",
      "Epoch 47/75\n",
      "13/13 [==============================] - 0s 4ms/step - loss: 5.1978 - val_loss: 7.3840\n",
      "Epoch 48/75\n",
      "13/13 [==============================] - 0s 4ms/step - loss: 5.3512 - val_loss: 8.0934\n",
      "Epoch 49/75\n",
      "13/13 [==============================] - 0s 4ms/step - loss: 4.8728 - val_loss: 8.1402\n",
      "Epoch 50/75\n",
      "13/13 [==============================] - 0s 4ms/step - loss: 5.1424 - val_loss: 7.6401\n",
      "Epoch 51/75\n",
      "13/13 [==============================] - 0s 4ms/step - loss: 5.1049 - val_loss: 6.3308\n",
      "Epoch 52/75\n",
      "13/13 [==============================] - 0s 4ms/step - loss: 5.8101 - val_loss: 8.1073\n",
      "Epoch 53/75\n",
      "13/13 [==============================] - 0s 4ms/step - loss: 5.3378 - val_loss: 8.1055\n",
      "Epoch 54/75\n",
      "13/13 [==============================] - 0s 3ms/step - loss: 4.7028 - val_loss: 7.5166\n",
      "Epoch 55/75\n",
      "13/13 [==============================] - 0s 4ms/step - loss: 5.0829 - val_loss: 7.4320\n",
      "Epoch 56/75\n",
      "13/13 [==============================] - 0s 3ms/step - loss: 5.2880 - val_loss: 10.7016\n",
      "Epoch 57/75\n",
      "13/13 [==============================] - 0s 3ms/step - loss: 4.9593 - val_loss: 6.1243\n",
      "Epoch 58/75\n",
      "13/13 [==============================] - 0s 3ms/step - loss: 4.8092 - val_loss: 10.7591\n",
      "Epoch 59/75\n",
      "13/13 [==============================] - 0s 3ms/step - loss: 4.9446 - val_loss: 7.8855\n",
      "Epoch 60/75\n",
      "13/13 [==============================] - 0s 3ms/step - loss: 5.2769 - val_loss: 7.4553\n",
      "Epoch 61/75\n",
      "13/13 [==============================] - 0s 3ms/step - loss: 5.0778 - val_loss: 6.9289\n",
      "Epoch 62/75\n",
      "13/13 [==============================] - 0s 3ms/step - loss: 4.8175 - val_loss: 8.7100\n",
      "Epoch 63/75\n",
      "13/13 [==============================] - 0s 3ms/step - loss: 5.0359 - val_loss: 6.2810\n",
      "Epoch 64/75\n",
      "13/13 [==============================] - 0s 3ms/step - loss: 5.0571 - val_loss: 6.3854\n",
      "Epoch 65/75\n",
      "13/13 [==============================] - 0s 3ms/step - loss: 5.2697 - val_loss: 8.5457\n",
      "Epoch 66/75\n",
      "13/13 [==============================] - 0s 3ms/step - loss: 4.5439 - val_loss: 5.9245\n",
      "Epoch 67/75\n",
      "13/13 [==============================] - 0s 3ms/step - loss: 4.8752 - val_loss: 7.9315\n",
      "Epoch 68/75\n",
      "13/13 [==============================] - 0s 3ms/step - loss: 5.0544 - val_loss: 4.9141\n",
      "Epoch 69/75\n",
      "13/13 [==============================] - 0s 3ms/step - loss: 4.7916 - val_loss: 5.9758\n",
      "Epoch 70/75\n",
      "13/13 [==============================] - 0s 3ms/step - loss: 4.4862 - val_loss: 7.8844\n",
      "Epoch 71/75\n",
      "13/13 [==============================] - 0s 3ms/step - loss: 4.7813 - val_loss: 8.9200\n",
      "Epoch 72/75\n",
      "13/13 [==============================] - 0s 3ms/step - loss: 3.9908 - val_loss: 10.0195\n",
      "Epoch 73/75\n",
      "13/13 [==============================] - 0s 3ms/step - loss: 5.0510 - val_loss: 6.0063\n",
      "Epoch 74/75\n",
      "13/13 [==============================] - 0s 3ms/step - loss: 5.1812 - val_loss: 6.2386\n",
      "Epoch 75/75\n",
      "13/13 [==============================] - 0s 3ms/step - loss: 4.7072 - val_loss: 5.7394\n"
     ]
    }
   ],
   "source": [
    "history = model.fit(X, y, batch_size=32, epochs=75, validation_split=0.2)"
   ]
  },
  {
   "cell_type": "code",
   "execution_count": 43,
   "metadata": {},
   "outputs": [
    {
     "data": {
      "image/png": "[encoded data removed]",
      "text/plain": [
       "<Figure size 432x288 with 1 Axes>"
      ]
     },
     "metadata": {
      "needs_background": "light"
     },
     "output_type": "display_data"
    }
   ],
   "source": [
    "ev.ViewLoss(history, 75)"
   ]
  },
  {
   "cell_type": "code",
   "execution_count": null,
   "metadata": {},
   "outputs": [],
   "source": []
  }
 ],
 "metadata": {
  "kernelspec": {
   "display_name": "Python 3",
   "language": "python",
   "name": "python3"
  },
  "language_info": {
   "codemirror_mode": {
    "name": "ipython",
    "version": 3
   },
   "file_extension": ".py",
   "mimetype": "text/x-python",
   "name": "python",
   "nbconvert_exporter": "python",
   "pygments_lexer": "ipython3",
   "version": "3.8.5"
  }
 },
 "nbformat": 4,
 "nbformat_minor": 4
}
