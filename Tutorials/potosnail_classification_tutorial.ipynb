{
 "cells": [
  {
   "cell_type": "markdown",
   "metadata": {},
   "source": [
    "## importing libraries and data"
   ]
  },
  {
   "cell_type": "code",
   "execution_count": 1,
   "metadata": {},
   "outputs": [],
   "source": [
    "from potosnail import MachineLearning, DeepLearning, DataHelper, Evaluater\n",
    "from sklearn.datasets import load_breast_cancer\n",
    "import pandas as pd\n",
    "import seaborn as sns\n",
    "from matplotlib import pyplot as plt\n",
    "\n",
    "ml = MachineLearning()\n",
    "dl = DeepLearning()\n",
    "dh = DataHelper()\n",
    "ev = Evaluater()"
   ]
  },
  {
   "cell_type": "markdown",
   "metadata": {},
   "source": [
    "## creating dataframe"
   ]
  },
  {
   "cell_type": "code",
   "execution_count": 4,
   "metadata": {},
   "outputs": [
    {
     "data": {
      "text/html": [
       "<div>\n",
       "<style scoped>\n",
       "    .dataframe tbody tr th:only-of-type {\n",
       "        vertical-align: middle;\n",
       "    }\n",
       "\n",
       "    .dataframe tbody tr th {\n",
       "        vertical-align: top;\n",
       "    }\n",
       "\n",
       "    .dataframe thead th {\n",
       "        text-align: right;\n",
       "    }\n",
       "</style>\n",
       "<table border=\"1\" class=\"dataframe\">\n",
       "  <thead>\n",
       "    <tr style=\"text-align: right;\">\n",
       "      <th></th>\n",
       "      <th>mean radius</th>\n",
       "      <th>mean texture</th>\n",
       "      <th>mean perimeter</th>\n",
       "      <th>mean area</th>\n",
       "      <th>mean smoothness</th>\n",
       "      <th>mean compactness</th>\n",
       "      <th>mean concavity</th>\n",
       "      <th>mean concave points</th>\n",
       "      <th>mean symmetry</th>\n",
       "      <th>mean fractal dimension</th>\n",
       "      <th>...</th>\n",
       "      <th>worst texture</th>\n",
       "      <th>worst perimeter</th>\n",
       "      <th>worst area</th>\n",
       "      <th>worst smoothness</th>\n",
       "      <th>worst compactness</th>\n",
       "      <th>worst concavity</th>\n",
       "      <th>worst concave points</th>\n",
       "      <th>worst symmetry</th>\n",
       "      <th>worst fractal dimension</th>\n",
       "      <th>malignant</th>\n",
       "    </tr>\n",
       "  </thead>\n",
       "  <tbody>\n",
       "    <tr>\n",
       "      <th>0</th>\n",
       "      <td>17.99</td>\n",
       "      <td>10.38</td>\n",
       "      <td>122.80</td>\n",
       "      <td>1001.0</td>\n",
       "      <td>0.11840</td>\n",
       "      <td>0.27760</td>\n",
       "      <td>0.3001</td>\n",
       "      <td>0.14710</td>\n",
       "      <td>0.2419</td>\n",
       "      <td>0.07871</td>\n",
       "      <td>...</td>\n",
       "      <td>17.33</td>\n",
       "      <td>184.60</td>\n",
       "      <td>2019.0</td>\n",
       "      <td>0.1622</td>\n",
       "      <td>0.6656</td>\n",
       "      <td>0.7119</td>\n",
       "      <td>0.2654</td>\n",
       "      <td>0.4601</td>\n",
       "      <td>0.11890</td>\n",
       "      <td>0</td>\n",
       "    </tr>\n",
       "    <tr>\n",
       "      <th>1</th>\n",
       "      <td>20.57</td>\n",
       "      <td>17.77</td>\n",
       "      <td>132.90</td>\n",
       "      <td>1326.0</td>\n",
       "      <td>0.08474</td>\n",
       "      <td>0.07864</td>\n",
       "      <td>0.0869</td>\n",
       "      <td>0.07017</td>\n",
       "      <td>0.1812</td>\n",
       "      <td>0.05667</td>\n",
       "      <td>...</td>\n",
       "      <td>23.41</td>\n",
       "      <td>158.80</td>\n",
       "      <td>1956.0</td>\n",
       "      <td>0.1238</td>\n",
       "      <td>0.1866</td>\n",
       "      <td>0.2416</td>\n",
       "      <td>0.1860</td>\n",
       "      <td>0.2750</td>\n",
       "      <td>0.08902</td>\n",
       "      <td>0</td>\n",
       "    </tr>\n",
       "    <tr>\n",
       "      <th>2</th>\n",
       "      <td>19.69</td>\n",
       "      <td>21.25</td>\n",
       "      <td>130.00</td>\n",
       "      <td>1203.0</td>\n",
       "      <td>0.10960</td>\n",
       "      <td>0.15990</td>\n",
       "      <td>0.1974</td>\n",
       "      <td>0.12790</td>\n",
       "      <td>0.2069</td>\n",
       "      <td>0.05999</td>\n",
       "      <td>...</td>\n",
       "      <td>25.53</td>\n",
       "      <td>152.50</td>\n",
       "      <td>1709.0</td>\n",
       "      <td>0.1444</td>\n",
       "      <td>0.4245</td>\n",
       "      <td>0.4504</td>\n",
       "      <td>0.2430</td>\n",
       "      <td>0.3613</td>\n",
       "      <td>0.08758</td>\n",
       "      <td>0</td>\n",
       "    </tr>\n",
       "    <tr>\n",
       "      <th>3</th>\n",
       "      <td>11.42</td>\n",
       "      <td>20.38</td>\n",
       "      <td>77.58</td>\n",
       "      <td>386.1</td>\n",
       "      <td>0.14250</td>\n",
       "      <td>0.28390</td>\n",
       "      <td>0.2414</td>\n",
       "      <td>0.10520</td>\n",
       "      <td>0.2597</td>\n",
       "      <td>0.09744</td>\n",
       "      <td>...</td>\n",
       "      <td>26.50</td>\n",
       "      <td>98.87</td>\n",
       "      <td>567.7</td>\n",
       "      <td>0.2098</td>\n",
       "      <td>0.8663</td>\n",
       "      <td>0.6869</td>\n",
       "      <td>0.2575</td>\n",
       "      <td>0.6638</td>\n",
       "      <td>0.17300</td>\n",
       "      <td>0</td>\n",
       "    </tr>\n",
       "    <tr>\n",
       "      <th>4</th>\n",
       "      <td>20.29</td>\n",
       "      <td>14.34</td>\n",
       "      <td>135.10</td>\n",
       "      <td>1297.0</td>\n",
       "      <td>0.10030</td>\n",
       "      <td>0.13280</td>\n",
       "      <td>0.1980</td>\n",
       "      <td>0.10430</td>\n",
       "      <td>0.1809</td>\n",
       "      <td>0.05883</td>\n",
       "      <td>...</td>\n",
       "      <td>16.67</td>\n",
       "      <td>152.20</td>\n",
       "      <td>1575.0</td>\n",
       "      <td>0.1374</td>\n",
       "      <td>0.2050</td>\n",
       "      <td>0.4000</td>\n",
       "      <td>0.1625</td>\n",
       "      <td>0.2364</td>\n",
       "      <td>0.07678</td>\n",
       "      <td>0</td>\n",
       "    </tr>\n",
       "  </tbody>\n",
       "</table>\n",
       "<p>5 rows × 31 columns</p>\n",
       "</div>"
      ],
      "text/plain": [
       "   mean radius  mean texture  mean perimeter  mean area  mean smoothness  \\\n",
       "0        17.99         10.38          122.80     1001.0          0.11840   \n",
       "1        20.57         17.77          132.90     1326.0          0.08474   \n",
       "2        19.69         21.25          130.00     1203.0          0.10960   \n",
       "3        11.42         20.38           77.58      386.1          0.14250   \n",
       "4        20.29         14.34          135.10     1297.0          0.10030   \n",
       "\n",
       "   mean compactness  mean concavity  mean concave points  mean symmetry  \\\n",
       "0           0.27760          0.3001              0.14710         0.2419   \n",
       "1           0.07864          0.0869              0.07017         0.1812   \n",
       "2           0.15990          0.1974              0.12790         0.2069   \n",
       "3           0.28390          0.2414              0.10520         0.2597   \n",
       "4           0.13280          0.1980              0.10430         0.1809   \n",
       "\n",
       "   mean fractal dimension  ...  worst texture  worst perimeter  worst area  \\\n",
       "0                 0.07871  ...          17.33           184.60      2019.0   \n",
       "1                 0.05667  ...          23.41           158.80      1956.0   \n",
       "2                 0.05999  ...          25.53           152.50      1709.0   \n",
       "3                 0.09744  ...          26.50            98.87       567.7   \n",
       "4                 0.05883  ...          16.67           152.20      1575.0   \n",
       "\n",
       "   worst smoothness  worst compactness  worst concavity  worst concave points  \\\n",
       "0            0.1622             0.6656           0.7119                0.2654   \n",
       "1            0.1238             0.1866           0.2416                0.1860   \n",
       "2            0.1444             0.4245           0.4504                0.2430   \n",
       "3            0.2098             0.8663           0.6869                0.2575   \n",
       "4            0.1374             0.2050           0.4000                0.1625   \n",
       "\n",
       "   worst symmetry  worst fractal dimension  malignant  \n",
       "0          0.4601                  0.11890          0  \n",
       "1          0.2750                  0.08902          0  \n",
       "2          0.3613                  0.08758          0  \n",
       "3          0.6638                  0.17300          0  \n",
       "4          0.2364                  0.07678          0  \n",
       "\n",
       "[5 rows x 31 columns]"
      ]
     },
     "execution_count": 4,
     "metadata": {},
     "output_type": "execute_result"
    }
   ],
   "source": [
    "df = pd.DataFrame(load_breast_cancer()['data'])\n",
    "df.columns = list(load_breast_cancer()['feature_names'])\n",
    "df['malignant'] = load_breast_cancer()['target']\n",
    "df.head()"
   ]
  },
  {
   "cell_type": "markdown",
   "metadata": {},
   "source": [
    "## checking for class imbalance"
   ]
  },
  {
   "cell_type": "code",
   "execution_count": 5,
   "metadata": {},
   "outputs": [
    {
     "data": {
      "text/plain": [
       "1    357\n",
       "0    212\n",
       "Name: malignant, dtype: int64"
      ]
     },
     "execution_count": 5,
     "metadata": {},
     "output_type": "execute_result"
    }
   ],
   "source": [
    "df['malignant'].value_counts()"
   ]
  },
  {
   "cell_type": "markdown",
   "metadata": {},
   "source": [
    "## using SmoteIt to balance classes "
   ]
  },
  {
   "cell_type": "markdown",
   "metadata": {},
   "source": [
    "Smote isn't usually used on data with this low of class imbalance, this is just to demo"
   ]
  },
  {
   "cell_type": "code",
   "execution_count": 11,
   "metadata": {},
   "outputs": [
    {
     "data": {
      "text/html": [
       "<div>\n",
       "<style scoped>\n",
       "    .dataframe tbody tr th:only-of-type {\n",
       "        vertical-align: middle;\n",
       "    }\n",
       "\n",
       "    .dataframe tbody tr th {\n",
       "        vertical-align: top;\n",
       "    }\n",
       "\n",
       "    .dataframe thead th {\n",
       "        text-align: right;\n",
       "    }\n",
       "</style>\n",
       "<table border=\"1\" class=\"dataframe\">\n",
       "  <thead>\n",
       "    <tr style=\"text-align: right;\">\n",
       "      <th></th>\n",
       "      <th>mean radius</th>\n",
       "      <th>mean texture</th>\n",
       "      <th>mean perimeter</th>\n",
       "      <th>mean area</th>\n",
       "      <th>mean smoothness</th>\n",
       "      <th>mean compactness</th>\n",
       "      <th>mean concavity</th>\n",
       "      <th>mean concave points</th>\n",
       "      <th>mean symmetry</th>\n",
       "      <th>mean fractal dimension</th>\n",
       "      <th>...</th>\n",
       "      <th>worst texture</th>\n",
       "      <th>worst perimeter</th>\n",
       "      <th>worst area</th>\n",
       "      <th>worst smoothness</th>\n",
       "      <th>worst compactness</th>\n",
       "      <th>worst concavity</th>\n",
       "      <th>worst concave points</th>\n",
       "      <th>worst symmetry</th>\n",
       "      <th>worst fractal dimension</th>\n",
       "      <th>malignant</th>\n",
       "    </tr>\n",
       "  </thead>\n",
       "  <tbody>\n",
       "    <tr>\n",
       "      <th>0</th>\n",
       "      <td>17.99</td>\n",
       "      <td>10.38</td>\n",
       "      <td>122.80</td>\n",
       "      <td>1001.0</td>\n",
       "      <td>0.11840</td>\n",
       "      <td>0.27760</td>\n",
       "      <td>0.3001</td>\n",
       "      <td>0.14710</td>\n",
       "      <td>0.2419</td>\n",
       "      <td>0.07871</td>\n",
       "      <td>...</td>\n",
       "      <td>17.33</td>\n",
       "      <td>184.60</td>\n",
       "      <td>2019.0</td>\n",
       "      <td>0.1622</td>\n",
       "      <td>0.6656</td>\n",
       "      <td>0.7119</td>\n",
       "      <td>0.2654</td>\n",
       "      <td>0.4601</td>\n",
       "      <td>0.11890</td>\n",
       "      <td>0</td>\n",
       "    </tr>\n",
       "    <tr>\n",
       "      <th>1</th>\n",
       "      <td>20.57</td>\n",
       "      <td>17.77</td>\n",
       "      <td>132.90</td>\n",
       "      <td>1326.0</td>\n",
       "      <td>0.08474</td>\n",
       "      <td>0.07864</td>\n",
       "      <td>0.0869</td>\n",
       "      <td>0.07017</td>\n",
       "      <td>0.1812</td>\n",
       "      <td>0.05667</td>\n",
       "      <td>...</td>\n",
       "      <td>23.41</td>\n",
       "      <td>158.80</td>\n",
       "      <td>1956.0</td>\n",
       "      <td>0.1238</td>\n",
       "      <td>0.1866</td>\n",
       "      <td>0.2416</td>\n",
       "      <td>0.1860</td>\n",
       "      <td>0.2750</td>\n",
       "      <td>0.08902</td>\n",
       "      <td>0</td>\n",
       "    </tr>\n",
       "    <tr>\n",
       "      <th>2</th>\n",
       "      <td>19.69</td>\n",
       "      <td>21.25</td>\n",
       "      <td>130.00</td>\n",
       "      <td>1203.0</td>\n",
       "      <td>0.10960</td>\n",
       "      <td>0.15990</td>\n",
       "      <td>0.1974</td>\n",
       "      <td>0.12790</td>\n",
       "      <td>0.2069</td>\n",
       "      <td>0.05999</td>\n",
       "      <td>...</td>\n",
       "      <td>25.53</td>\n",
       "      <td>152.50</td>\n",
       "      <td>1709.0</td>\n",
       "      <td>0.1444</td>\n",
       "      <td>0.4245</td>\n",
       "      <td>0.4504</td>\n",
       "      <td>0.2430</td>\n",
       "      <td>0.3613</td>\n",
       "      <td>0.08758</td>\n",
       "      <td>0</td>\n",
       "    </tr>\n",
       "    <tr>\n",
       "      <th>3</th>\n",
       "      <td>11.42</td>\n",
       "      <td>20.38</td>\n",
       "      <td>77.58</td>\n",
       "      <td>386.1</td>\n",
       "      <td>0.14250</td>\n",
       "      <td>0.28390</td>\n",
       "      <td>0.2414</td>\n",
       "      <td>0.10520</td>\n",
       "      <td>0.2597</td>\n",
       "      <td>0.09744</td>\n",
       "      <td>...</td>\n",
       "      <td>26.50</td>\n",
       "      <td>98.87</td>\n",
       "      <td>567.7</td>\n",
       "      <td>0.2098</td>\n",
       "      <td>0.8663</td>\n",
       "      <td>0.6869</td>\n",
       "      <td>0.2575</td>\n",
       "      <td>0.6638</td>\n",
       "      <td>0.17300</td>\n",
       "      <td>0</td>\n",
       "    </tr>\n",
       "    <tr>\n",
       "      <th>4</th>\n",
       "      <td>20.29</td>\n",
       "      <td>14.34</td>\n",
       "      <td>135.10</td>\n",
       "      <td>1297.0</td>\n",
       "      <td>0.10030</td>\n",
       "      <td>0.13280</td>\n",
       "      <td>0.1980</td>\n",
       "      <td>0.10430</td>\n",
       "      <td>0.1809</td>\n",
       "      <td>0.05883</td>\n",
       "      <td>...</td>\n",
       "      <td>16.67</td>\n",
       "      <td>152.20</td>\n",
       "      <td>1575.0</td>\n",
       "      <td>0.1374</td>\n",
       "      <td>0.2050</td>\n",
       "      <td>0.4000</td>\n",
       "      <td>0.1625</td>\n",
       "      <td>0.2364</td>\n",
       "      <td>0.07678</td>\n",
       "      <td>0</td>\n",
       "    </tr>\n",
       "  </tbody>\n",
       "</table>\n",
       "<p>5 rows × 31 columns</p>\n",
       "</div>"
      ],
      "text/plain": [
       "   mean radius  mean texture  mean perimeter  mean area  mean smoothness  \\\n",
       "0        17.99         10.38          122.80     1001.0          0.11840   \n",
       "1        20.57         17.77          132.90     1326.0          0.08474   \n",
       "2        19.69         21.25          130.00     1203.0          0.10960   \n",
       "3        11.42         20.38           77.58      386.1          0.14250   \n",
       "4        20.29         14.34          135.10     1297.0          0.10030   \n",
       "\n",
       "   mean compactness  mean concavity  mean concave points  mean symmetry  \\\n",
       "0           0.27760          0.3001              0.14710         0.2419   \n",
       "1           0.07864          0.0869              0.07017         0.1812   \n",
       "2           0.15990          0.1974              0.12790         0.2069   \n",
       "3           0.28390          0.2414              0.10520         0.2597   \n",
       "4           0.13280          0.1980              0.10430         0.1809   \n",
       "\n",
       "   mean fractal dimension  ...  worst texture  worst perimeter  worst area  \\\n",
       "0                 0.07871  ...          17.33           184.60      2019.0   \n",
       "1                 0.05667  ...          23.41           158.80      1956.0   \n",
       "2                 0.05999  ...          25.53           152.50      1709.0   \n",
       "3                 0.09744  ...          26.50            98.87       567.7   \n",
       "4                 0.05883  ...          16.67           152.20      1575.0   \n",
       "\n",
       "   worst smoothness  worst compactness  worst concavity  worst concave points  \\\n",
       "0            0.1622             0.6656           0.7119                0.2654   \n",
       "1            0.1238             0.1866           0.2416                0.1860   \n",
       "2            0.1444             0.4245           0.4504                0.2430   \n",
       "3            0.2098             0.8663           0.6869                0.2575   \n",
       "4            0.1374             0.2050           0.4000                0.1625   \n",
       "\n",
       "   worst symmetry  worst fractal dimension  malignant  \n",
       "0          0.4601                  0.11890          0  \n",
       "1          0.2750                  0.08902          0  \n",
       "2          0.3613                  0.08758          0  \n",
       "3          0.6638                  0.17300          0  \n",
       "4          0.2364                  0.07678          0  \n",
       "\n",
       "[5 rows x 31 columns]"
      ]
     },
     "execution_count": 11,
     "metadata": {},
     "output_type": "execute_result"
    }
   ],
   "source": [
    "df2, y = dh.SmoteIt(df.drop(['malignant'], axis='columns'), df['malignant'])\n",
    "df2['malignant'] = y\n",
    "df2.head()"
   ]
  },
  {
   "cell_type": "code",
   "execution_count": 12,
   "metadata": {},
   "outputs": [
    {
     "data": {
      "text/plain": [
       "1    357\n",
       "0    357\n",
       "Name: malignant, dtype: int64"
      ]
     },
     "execution_count": 12,
     "metadata": {},
     "output_type": "execute_result"
    }
   ],
   "source": [
    "df2['malignant'].value_counts()"
   ]
  },
  {
   "cell_type": "markdown",
   "metadata": {},
   "source": [
    "## picking best model with CompareModels"
   ]
  },
  {
   "cell_type": "code",
   "execution_count": 14,
   "metadata": {},
   "outputs": [
    {
     "name": "stdout",
     "output_type": "stream",
     "text": [
      "[19:55:29] WARNING: C:/Users/Administrator/workspace/xgboost-win64_release_1.3.0/src/learner.cc:1061: Starting in XGBoost 1.3.0, the default evaluation metric used with the objective 'binary:logistic' was changed from 'error' to 'logloss'. Explicitly set eval_metric if you'd like to restore the old behavior.\n"
     ]
    },
    {
     "data": {
      "text/html": [
       "<div>\n",
       "<style scoped>\n",
       "    .dataframe tbody tr th:only-of-type {\n",
       "        vertical-align: middle;\n",
       "    }\n",
       "\n",
       "    .dataframe tbody tr th {\n",
       "        vertical-align: top;\n",
       "    }\n",
       "\n",
       "    .dataframe thead th {\n",
       "        text-align: right;\n",
       "    }\n",
       "</style>\n",
       "<table border=\"1\" class=\"dataframe\">\n",
       "  <thead>\n",
       "    <tr style=\"text-align: right;\">\n",
       "      <th></th>\n",
       "      <th>Model</th>\n",
       "      <th>train_acc</th>\n",
       "      <th>test_acc</th>\n",
       "    </tr>\n",
       "  </thead>\n",
       "  <tbody>\n",
       "    <tr>\n",
       "      <th>0</th>\n",
       "      <td>KNN</td>\n",
       "      <td>0.955140</td>\n",
       "      <td>0.916201</td>\n",
       "    </tr>\n",
       "    <tr>\n",
       "      <th>1</th>\n",
       "      <td>NB</td>\n",
       "      <td>0.936449</td>\n",
       "      <td>0.921788</td>\n",
       "    </tr>\n",
       "    <tr>\n",
       "      <th>2</th>\n",
       "      <td>DT</td>\n",
       "      <td>1.000000</td>\n",
       "      <td>0.949721</td>\n",
       "    </tr>\n",
       "    <tr>\n",
       "      <th>3</th>\n",
       "      <td>RF</td>\n",
       "      <td>1.000000</td>\n",
       "      <td>0.949721</td>\n",
       "    </tr>\n",
       "    <tr>\n",
       "      <th>4</th>\n",
       "      <td>AB</td>\n",
       "      <td>1.000000</td>\n",
       "      <td>0.955307</td>\n",
       "    </tr>\n",
       "    <tr>\n",
       "      <th>5</th>\n",
       "      <td>GB</td>\n",
       "      <td>1.000000</td>\n",
       "      <td>0.949721</td>\n",
       "    </tr>\n",
       "    <tr>\n",
       "      <th>6</th>\n",
       "      <td>XGB</td>\n",
       "      <td>1.000000</td>\n",
       "      <td>0.949721</td>\n",
       "    </tr>\n",
       "    <tr>\n",
       "      <th>7</th>\n",
       "      <td>Log</td>\n",
       "      <td>0.958879</td>\n",
       "      <td>0.927374</td>\n",
       "    </tr>\n",
       "    <tr>\n",
       "      <th>8</th>\n",
       "      <td>SVM</td>\n",
       "      <td>0.915888</td>\n",
       "      <td>0.871508</td>\n",
       "    </tr>\n",
       "  </tbody>\n",
       "</table>\n",
       "</div>"
      ],
      "text/plain": [
       "  Model  train_acc  test_acc\n",
       "0   KNN   0.955140  0.916201\n",
       "1    NB   0.936449  0.921788\n",
       "2    DT   1.000000  0.949721\n",
       "3    RF   1.000000  0.949721\n",
       "4    AB   1.000000  0.955307\n",
       "5    GB   1.000000  0.949721\n",
       "6   XGB   1.000000  0.949721\n",
       "7   Log   0.958879  0.927374\n",
       "8   SVM   0.915888  0.871508"
      ]
     },
     "execution_count": 14,
     "metadata": {},
     "output_type": "execute_result"
    }
   ],
   "source": [
    "ml.CompareModels(df2, 'malignant', 'classification')"
   ]
  },
  {
   "cell_type": "markdown",
   "metadata": {},
   "source": [
    "## Let's Optimize!!"
   ]
  },
  {
   "cell_type": "markdown",
   "metadata": {},
   "source": [
    "Let's go with AB, AdaBoostClassifier :)"
   ]
  },
  {
   "cell_type": "code",
   "execution_count": 16,
   "metadata": {},
   "outputs": [
    {
     "name": "stdout",
     "output_type": "stream",
     "text": [
      "Fitting 5 folds for each of 4 candidates, totalling 20 fits\n"
     ]
    },
    {
     "name": "stderr",
     "output_type": "stream",
     "text": [
      "[Parallel(n_jobs=-1)]: Using backend LokyBackend with 12 concurrent workers.\n",
      "[Parallel(n_jobs=-1)]: Done   8 out of  20 | elapsed:    2.9s remaining:    4.4s\n",
      "[Parallel(n_jobs=-1)]: Done  20 out of  20 | elapsed:    3.2s finished\n"
     ]
    },
    {
     "data": {
      "text/plain": [
       "AdaBoostClassifier(algorithm='SAMME', n_estimators=100)"
      ]
     },
     "execution_count": 16,
     "metadata": {},
     "output_type": "execute_result"
    }
   ],
   "source": [
    "from sklearn.ensemble import AdaBoostClassifier\n",
    "\n",
    "params = {'n_estimators': [10, 100], 'algorithm': ['SAMME', 'SAMME.R']}\n",
    "clf = ml.Optimize(AdaBoostClassifier(), params, df2, 'malignant')\n",
    "clf"
   ]
  },
  {
   "cell_type": "markdown",
   "metadata": {},
   "source": [
    "Splitting data and Evaluating tuned models with HoldOut and ScoreModel"
   ]
  },
  {
   "cell_type": "code",
   "execution_count": 19,
   "metadata": {},
   "outputs": [
    {
     "data": {
      "text/plain": [
       "'Training: 0.7401247401247402, Validation: 0.515527950310559'"
      ]
     },
     "execution_count": 19,
     "metadata": {},
     "output_type": "execute_result"
    }
   ],
   "source": [
    "X, Xval = dh.HoldOut(df2.drop(['malignant'], axis='columns'))\n",
    "y, yval = dh.HoldOut(df2['malignant'])\n",
    "clf.fit(X, y)\n",
    "ev.ScoreModel(clf, X, y)"
   ]
  },
  {
   "cell_type": "markdown",
   "metadata": {},
   "source": [
    "## Using BuildConfusion for evaluation"
   ]
  },
  {
   "cell_type": "code",
   "execution_count": 21,
   "metadata": {},
   "outputs": [
    {
     "data": {
      "text/plain": [
       "<sklearn.metrics._plot.confusion_matrix.ConfusionMatrixDisplay at 0x18fad914d30>"
      ]
     },
     "execution_count": 21,
     "metadata": {},
     "output_type": "execute_result"
    },
    {
     "data": {
      "image/png": "[encoded data removed]",
      "text/plain": [
       "<Figure size 432x288 with 2 Axes>"
      ]
     },
     "metadata": {
      "needs_background": "light"
     },
     "output_type": "display_data"
    }
   ],
   "source": [
    "ev.BuildConfusion(clf, Xval, yval)"
   ]
  },
  {
   "cell_type": "markdown",
   "metadata": {},
   "source": [
    "## Deep Learning approach"
   ]
  },
  {
   "cell_type": "code",
   "execution_count": 34,
   "metadata": {},
   "outputs": [],
   "source": [
    "X, y = dh.SmoteIt(load_breast_cancer()['data'], load_breast_cancer()['target'])"
   ]
  },
  {
   "cell_type": "markdown",
   "metadata": {},
   "source": [
    "## Model Building"
   ]
  },
  {
   "cell_type": "markdown",
   "metadata": {},
   "source": [
    "You can use DeepLearning().FastNN() with task set to 'classification'"
   ]
  },
  {
   "cell_type": "code",
   "execution_count": 35,
   "metadata": {},
   "outputs": [],
   "source": [
    "output_dim = 2 #because we have 2 classes (malignant and not malignant)\n",
    "nodes = 64 #first layer will have 64 nodes\n",
    "activation = 'relu' #Rectified Linear Unit activation function\n",
    "regularizer = 'L2' #prevents overfitting\n",
    "stacking = True #second layer will also have 64 nodes\n",
    "dropout = False #another overfitting solution, we will not be using it this time\n",
    "nlayers = 4 #neural network will have 4 layers\n",
    "closer = False \n",
    "loss = 'binary_crossentropy' #best loss function for binary classification\n",
    "optimizer = 'adam' #adaptive momentum estimation optimization function \n",
    "model = dl.DeepTabularClassification(output_dim, nodes, activation, regularizer, stacking,\n",
    "                                     dropout, nlayers, closer, loss, optimizer)"
   ]
  },
  {
   "cell_type": "markdown",
   "metadata": {},
   "source": [
    "visit https://machinelearningmastery.com/adam-optimization-algorithm-for-deep-learning/ to read more about adam if you want"
   ]
  },
  {
   "cell_type": "code",
   "execution_count": 36,
   "metadata": {},
   "outputs": [
    {
     "name": "stdout",
     "output_type": "stream",
     "text": [
      "Epoch 1/75\n",
      "18/18 [==============================] - 1s 12ms/step - loss: 10.0636 - accuracy: 0.5535 - val_loss: 0.9216 - val_accuracy: 0.8112\n",
      "Epoch 2/75\n",
      "18/18 [==============================] - 0s 3ms/step - loss: 0.9122 - accuracy: 0.7005 - val_loss: 0.3832 - val_accuracy: 0.9161\n",
      "Epoch 3/75\n",
      "18/18 [==============================] - 0s 3ms/step - loss: 0.4732 - accuracy: 0.8995 - val_loss: 1.0008 - val_accuracy: 0.7552\n",
      "Epoch 4/75\n",
      "18/18 [==============================] - 0s 3ms/step - loss: 0.4851 - accuracy: 0.8882 - val_loss: 1.0056 - val_accuracy: 0.7552\n",
      "Epoch 5/75\n",
      "18/18 [==============================] - 0s 3ms/step - loss: 0.4875 - accuracy: 0.8708 - val_loss: 0.2687 - val_accuracy: 0.9021\n",
      "Epoch 6/75\n",
      "18/18 [==============================] - 0s 3ms/step - loss: 0.3476 - accuracy: 0.9060 - val_loss: 0.7204 - val_accuracy: 0.7692\n",
      "Epoch 7/75\n",
      "18/18 [==============================] - 0s 3ms/step - loss: 0.3396 - accuracy: 0.9096 - val_loss: 0.3647 - val_accuracy: 0.8392\n",
      "Epoch 8/75\n",
      "18/18 [==============================] - 0s 3ms/step - loss: 0.3015 - accuracy: 0.9179 - val_loss: 0.3290 - val_accuracy: 0.8392\n",
      "Epoch 9/75\n",
      "18/18 [==============================] - 0s 3ms/step - loss: 0.2914 - accuracy: 0.9256 - val_loss: 0.5164 - val_accuracy: 0.7972\n",
      "Epoch 10/75\n",
      "18/18 [==============================] - 0s 3ms/step - loss: 0.2475 - accuracy: 0.9420 - val_loss: 0.2851 - val_accuracy: 0.8392\n",
      "Epoch 11/75\n",
      "18/18 [==============================] - 0s 3ms/step - loss: 0.2526 - accuracy: 0.9401 - val_loss: 0.2337 - val_accuracy: 0.8811\n",
      "Epoch 12/75\n",
      "18/18 [==============================] - 0s 3ms/step - loss: 0.2761 - accuracy: 0.9176 - val_loss: 0.3007 - val_accuracy: 0.8392\n",
      "Epoch 13/75\n",
      "18/18 [==============================] - 0s 3ms/step - loss: 0.2544 - accuracy: 0.9285 - val_loss: 0.1280 - val_accuracy: 0.9790\n",
      "Epoch 14/75\n",
      "18/18 [==============================] - 0s 3ms/step - loss: 0.3655 - accuracy: 0.8569 - val_loss: 0.6845 - val_accuracy: 0.7762\n",
      "Epoch 15/75\n",
      "18/18 [==============================] - 0s 3ms/step - loss: 0.2638 - accuracy: 0.9213 - val_loss: 0.7213 - val_accuracy: 0.7273\n",
      "Epoch 16/75\n",
      "18/18 [==============================] - 0s 3ms/step - loss: 0.2711 - accuracy: 0.9058 - val_loss: 0.1279 - val_accuracy: 0.9650\n",
      "Epoch 17/75\n",
      "18/18 [==============================] - 0s 3ms/step - loss: 0.3128 - accuracy: 0.9010 - val_loss: 0.7008 - val_accuracy: 0.7762\n",
      "Epoch 18/75\n",
      "18/18 [==============================] - 0s 3ms/step - loss: 0.2491 - accuracy: 0.9172 - val_loss: 0.1369 - val_accuracy: 0.9580\n",
      "Epoch 19/75\n",
      "18/18 [==============================] - 0s 3ms/step - loss: 0.3245 - accuracy: 0.8853 - val_loss: 0.4015 - val_accuracy: 0.8182\n",
      "Epoch 20/75\n",
      "18/18 [==============================] - 0s 3ms/step - loss: 0.2074 - accuracy: 0.9261 - val_loss: 0.2970 - val_accuracy: 0.8392\n",
      "Epoch 21/75\n",
      "18/18 [==============================] - 0s 3ms/step - loss: 0.2290 - accuracy: 0.9220 - val_loss: 0.8042 - val_accuracy: 0.7133\n",
      "Epoch 22/75\n",
      "18/18 [==============================] - 0s 3ms/step - loss: 0.2568 - accuracy: 0.9178 - val_loss: 0.5078 - val_accuracy: 0.8182\n",
      "Epoch 23/75\n",
      "18/18 [==============================] - 0s 3ms/step - loss: 0.2934 - accuracy: 0.9116 - val_loss: 0.1678 - val_accuracy: 0.9231\n",
      "Epoch 24/75\n",
      "18/18 [==============================] - 0s 3ms/step - loss: 0.3060 - accuracy: 0.9038 - val_loss: 0.3907 - val_accuracy: 0.8322\n",
      "Epoch 25/75\n",
      "18/18 [==============================] - 0s 3ms/step - loss: 0.2751 - accuracy: 0.9054 - val_loss: 0.4678 - val_accuracy: 0.8112\n",
      "Epoch 26/75\n",
      "18/18 [==============================] - 0s 3ms/step - loss: 0.2172 - accuracy: 0.9267 - val_loss: 0.4269 - val_accuracy: 0.8182\n",
      "Epoch 27/75\n",
      "18/18 [==============================] - 0s 3ms/step - loss: 0.1957 - accuracy: 0.9427 - val_loss: 0.3380 - val_accuracy: 0.8392\n",
      "Epoch 28/75\n",
      "18/18 [==============================] - 0s 3ms/step - loss: 0.3244 - accuracy: 0.9002 - val_loss: 0.0752 - val_accuracy: 0.9930\n",
      "Epoch 29/75\n",
      "18/18 [==============================] - 0s 3ms/step - loss: 0.3797 - accuracy: 0.8426 - val_loss: 1.1712 - val_accuracy: 0.6783\n",
      "Epoch 30/75\n",
      "18/18 [==============================] - 0s 3ms/step - loss: 0.3926 - accuracy: 0.8884 - val_loss: 0.1177 - val_accuracy: 0.9580\n",
      "Epoch 31/75\n",
      "18/18 [==============================] - 0s 3ms/step - loss: 0.5000 - accuracy: 0.8646 - val_loss: 0.4171 - val_accuracy: 0.8252\n",
      "Epoch 32/75\n",
      "18/18 [==============================] - 0s 3ms/step - loss: 0.2354 - accuracy: 0.9310 - val_loss: 0.6519 - val_accuracy: 0.7832\n",
      "Epoch 33/75\n",
      "18/18 [==============================] - 0s 3ms/step - loss: 0.2716 - accuracy: 0.9089 - val_loss: 0.1567 - val_accuracy: 0.9231\n",
      "Epoch 34/75\n",
      "18/18 [==============================] - 0s 3ms/step - loss: 0.2508 - accuracy: 0.9172 - val_loss: 0.3631 - val_accuracy: 0.8392\n",
      "Epoch 35/75\n",
      "18/18 [==============================] - 0s 3ms/step - loss: 0.2234 - accuracy: 0.9258 - val_loss: 0.5804 - val_accuracy: 0.8042\n",
      "Epoch 36/75\n",
      "18/18 [==============================] - 0s 3ms/step - loss: 0.2183 - accuracy: 0.9303 - val_loss: 0.6006 - val_accuracy: 0.7902\n",
      "Epoch 37/75\n",
      "18/18 [==============================] - 0s 3ms/step - loss: 0.1989 - accuracy: 0.9287 - val_loss: 0.3250 - val_accuracy: 0.8392\n",
      "Epoch 38/75\n",
      "18/18 [==============================] - 0s 2ms/step - loss: 0.2191 - accuracy: 0.9321 - val_loss: 0.3608 - val_accuracy: 0.8322\n",
      "Epoch 39/75\n",
      "18/18 [==============================] - 0s 3ms/step - loss: 0.2125 - accuracy: 0.9285 - val_loss: 0.3177 - val_accuracy: 0.8392\n",
      "Epoch 40/75\n",
      "18/18 [==============================] - 0s 3ms/step - loss: 0.2177 - accuracy: 0.9293 - val_loss: 0.2939 - val_accuracy: 0.8462\n",
      "Epoch 41/75\n",
      "18/18 [==============================] - 0s 3ms/step - loss: 0.2460 - accuracy: 0.9128 - val_loss: 0.8608 - val_accuracy: 0.7273\n",
      "Epoch 42/75\n",
      "18/18 [==============================] - 0s 3ms/step - loss: 0.2839 - accuracy: 0.8978 - val_loss: 0.4031 - val_accuracy: 0.8252\n",
      "Epoch 43/75\n",
      "18/18 [==============================] - 0s 3ms/step - loss: 0.2252 - accuracy: 0.9289 - val_loss: 0.3301 - val_accuracy: 0.8392\n",
      "Epoch 44/75\n",
      "18/18 [==============================] - 0s 3ms/step - loss: 0.1951 - accuracy: 0.9374 - val_loss: 1.3353 - val_accuracy: 0.6434\n",
      "Epoch 45/75\n",
      "18/18 [==============================] - 0s 4ms/step - loss: 0.2809 - accuracy: 0.9101 - val_loss: 0.0921 - val_accuracy: 0.9860\n",
      "Epoch 46/75\n",
      "18/18 [==============================] - 0s 3ms/step - loss: 0.2433 - accuracy: 0.9053 - val_loss: 0.6072 - val_accuracy: 0.7972\n",
      "Epoch 47/75\n",
      "18/18 [==============================] - 0s 3ms/step - loss: 0.2095 - accuracy: 0.9280 - val_loss: 0.2055 - val_accuracy: 0.8741\n",
      "Epoch 48/75\n",
      "18/18 [==============================] - 0s 3ms/step - loss: 0.2218 - accuracy: 0.9381 - val_loss: 0.6216 - val_accuracy: 0.7832\n",
      "Epoch 49/75\n",
      "18/18 [==============================] - 0s 3ms/step - loss: 0.2575 - accuracy: 0.9247 - val_loss: 0.2474 - val_accuracy: 0.8671\n",
      "Epoch 50/75\n",
      "18/18 [==============================] - 0s 3ms/step - loss: 0.2398 - accuracy: 0.9175 - val_loss: 0.1813 - val_accuracy: 0.8881\n",
      "Epoch 51/75\n",
      "18/18 [==============================] - 0s 3ms/step - loss: 0.2356 - accuracy: 0.9216 - val_loss: 0.3634 - val_accuracy: 0.8322\n",
      "Epoch 52/75\n",
      "18/18 [==============================] - 0s 3ms/step - loss: 0.2247 - accuracy: 0.9180 - val_loss: 0.3712 - val_accuracy: 0.8252\n",
      "Epoch 53/75\n",
      "18/18 [==============================] - 0s 3ms/step - loss: 0.2087 - accuracy: 0.9240 - val_loss: 0.1586 - val_accuracy: 0.9231\n",
      "Epoch 54/75\n",
      "18/18 [==============================] - 0s 3ms/step - loss: 0.2399 - accuracy: 0.9297 - val_loss: 0.4819 - val_accuracy: 0.8112\n",
      "Epoch 55/75\n",
      "18/18 [==============================] - 0s 3ms/step - loss: 0.2297 - accuracy: 0.9286 - val_loss: 0.5294 - val_accuracy: 0.8042\n",
      "Epoch 56/75\n",
      "18/18 [==============================] - 0s 3ms/step - loss: 0.2172 - accuracy: 0.9216 - val_loss: 0.2467 - val_accuracy: 0.8671\n",
      "Epoch 57/75\n",
      "18/18 [==============================] - 0s 3ms/step - loss: 0.2363 - accuracy: 0.9183 - val_loss: 0.7095 - val_accuracy: 0.7622\n",
      "Epoch 58/75\n",
      "18/18 [==============================] - 0s 3ms/step - loss: 0.2433 - accuracy: 0.9113 - val_loss: 0.3786 - val_accuracy: 0.8252\n",
      "Epoch 59/75\n",
      "18/18 [==============================] - 0s 3ms/step - loss: 0.2111 - accuracy: 0.9351 - val_loss: 0.2493 - val_accuracy: 0.8671\n",
      "Epoch 60/75\n",
      "18/18 [==============================] - 0s 3ms/step - loss: 0.2036 - accuracy: 0.9281 - val_loss: 0.4321 - val_accuracy: 0.8252\n",
      "Epoch 61/75\n",
      "18/18 [==============================] - 0s 3ms/step - loss: 0.2264 - accuracy: 0.9267 - val_loss: 0.4326 - val_accuracy: 0.8182\n",
      "Epoch 62/75\n",
      "18/18 [==============================] - 0s 2ms/step - loss: 0.2566 - accuracy: 0.9115 - val_loss: 0.9352 - val_accuracy: 0.7273\n",
      "Epoch 63/75\n",
      "18/18 [==============================] - 0s 3ms/step - loss: 0.2475 - accuracy: 0.9010 - val_loss: 0.2416 - val_accuracy: 0.8601\n",
      "Epoch 64/75\n",
      "18/18 [==============================] - 0s 3ms/step - loss: 0.2258 - accuracy: 0.9323 - val_loss: 0.4865 - val_accuracy: 0.8112\n",
      "Epoch 65/75\n",
      "18/18 [==============================] - 0s 3ms/step - loss: 0.2465 - accuracy: 0.9221 - val_loss: 0.2231 - val_accuracy: 0.8741\n",
      "Epoch 66/75\n",
      "18/18 [==============================] - 0s 3ms/step - loss: 0.2175 - accuracy: 0.9137 - val_loss: 0.6391 - val_accuracy: 0.7762\n",
      "Epoch 67/75\n",
      "18/18 [==============================] - 0s 3ms/step - loss: 0.2156 - accuracy: 0.9368 - val_loss: 0.1661 - val_accuracy: 0.9091\n",
      "Epoch 68/75\n",
      "18/18 [==============================] - 0s 3ms/step - loss: 0.1875 - accuracy: 0.9405 - val_loss: 0.4221 - val_accuracy: 0.8252\n",
      "Epoch 69/75\n",
      "18/18 [==============================] - 0s 3ms/step - loss: 0.1834 - accuracy: 0.9449 - val_loss: 0.3427 - val_accuracy: 0.8322\n",
      "Epoch 70/75\n",
      "18/18 [==============================] - 0s 3ms/step - loss: 0.1977 - accuracy: 0.9360 - val_loss: 0.4583 - val_accuracy: 0.8042\n",
      "Epoch 71/75\n",
      "18/18 [==============================] - 0s 3ms/step - loss: 0.2222 - accuracy: 0.9327 - val_loss: 0.7695 - val_accuracy: 0.7692\n",
      "Epoch 72/75\n",
      "18/18 [==============================] - 0s 3ms/step - loss: 0.2071 - accuracy: 0.9361 - val_loss: 0.4230 - val_accuracy: 0.8252\n",
      "Epoch 73/75\n",
      "18/18 [==============================] - 0s 3ms/step - loss: 0.1825 - accuracy: 0.9392 - val_loss: 0.5147 - val_accuracy: 0.7972\n",
      "Epoch 74/75\n",
      "18/18 [==============================] - 0s 3ms/step - loss: 0.1904 - accuracy: 0.9326 - val_loss: 0.1651 - val_accuracy: 0.9091\n",
      "Epoch 75/75\n",
      "18/18 [==============================] - 0s 3ms/step - loss: 0.2542 - accuracy: 0.9012 - val_loss: 0.1658 - val_accuracy: 0.9091\n"
     ]
    }
   ],
   "source": [
    "y2 = dl.MulticlassOutput(y) #using MulticlassOutput to encode labels\n",
    "history = model.fit(X, y2, batch_size=32, epochs=75, validation_split=0.2)"
   ]
  },
  {
   "cell_type": "code",
   "execution_count": 37,
   "metadata": {},
   "outputs": [
    {
     "data": {
      "image/png": "[encoded data removed]",
      "text/plain": [
       "<Figure size 432x288 with 1 Axes>"
      ]
     },
     "metadata": {
      "needs_background": "light"
     },
     "output_type": "display_data"
    }
   ],
   "source": [
    "ev.ViewLoss(history, 75)"
   ]
  },
  {
   "cell_type": "code",
   "execution_count": 38,
   "metadata": {},
   "outputs": [
    {
     "data": {
      "image/png": "[encoded data removed]",
      "text/plain": [
       "<Figure size 432x288 with 1 Axes>"
      ]
     },
     "metadata": {
      "needs_background": "light"
     },
     "output_type": "display_data"
    }
   ],
   "source": [
    "ev.ViewAccuracy(history, 75)"
   ]
  },
  {
   "cell_type": "code",
   "execution_count": 40,
   "metadata": {},
   "outputs": [
    {
     "data": {
      "text/plain": [
       "<AxesSubplot:xlabel='Predict', ylabel='True'>"
      ]
     },
     "execution_count": 40,
     "metadata": {},
     "output_type": "execute_result"
    },
    {
     "data": {
      "image/png": "[encoded data removed]",
      "text/plain": [
       "<Figure size 432x288 with 2 Axes>"
      ]
     },
     "metadata": {
      "needs_background": "light"
     },
     "output_type": "display_data"
    }
   ],
   "source": [
    "ev.BuildConfusionDL(model, X, y2)"
   ]
  },
  {
   "cell_type": "code",
   "execution_count": null,
   "metadata": {},
   "outputs": [],
   "source": []
  }
 ],
 "metadata": {
  "kernelspec": {
   "display_name": "Python 3",
   "language": "python",
   "name": "python3"
  },
  "language_info": {
   "codemirror_mode": {
    "name": "ipython",
    "version": 3
   },
   "file_extension": ".py",
   "mimetype": "text/x-python",
   "name": "python",
   "nbconvert_exporter": "python",
   "pygments_lexer": "ipython3",
   "version": "3.8.5"
  }
 },
 "nbformat": 4,
 "nbformat_minor": 4
}
