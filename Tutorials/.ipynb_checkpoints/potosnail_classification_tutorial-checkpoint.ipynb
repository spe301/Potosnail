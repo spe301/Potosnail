{
 "cells": [
  {
   "cell_type": "markdown",
   "metadata": {},
   "source": [
    "## importing libraries and data"
   ]
  },
  {
   "cell_type": "code",
   "execution_count": 1,
   "metadata": {},
   "outputs": [],
   "source": [
    "from potosnail import MachineLearning, DeepLearning, DataHelper, Evaluater, Algorithms, Wrappers\n",
    "from sklearn.datasets import load_breast_cancer\n",
    "import numpy as np\n",
    "import pandas as pd\n",
    "import seaborn as sns\n",
    "from matplotlib import pyplot as plt\n",
    "\n",
    "ml = MachineLearning()\n",
    "dl = DeepLearning()\n",
    "dh = DataHelper()\n",
    "ev = Evaluater()\n",
    "al = Algorithms()\n",
    "wr = Wrappers()"
   ]
  },
  {
   "cell_type": "markdown",
   "metadata": {},
   "source": [
    "## creating dataframe"
   ]
  },
  {
   "cell_type": "code",
   "execution_count": 2,
   "metadata": {},
   "outputs": [
    {
     "data": {
      "text/html": [
       "<div>\n",
       "<style scoped>\n",
       "    .dataframe tbody tr th:only-of-type {\n",
       "        vertical-align: middle;\n",
       "    }\n",
       "\n",
       "    .dataframe tbody tr th {\n",
       "        vertical-align: top;\n",
       "    }\n",
       "\n",
       "    .dataframe thead th {\n",
       "        text-align: right;\n",
       "    }\n",
       "</style>\n",
       "<table border=\"1\" class=\"dataframe\">\n",
       "  <thead>\n",
       "    <tr style=\"text-align: right;\">\n",
       "      <th></th>\n",
       "      <th>mean radius</th>\n",
       "      <th>mean texture</th>\n",
       "      <th>mean perimeter</th>\n",
       "      <th>mean area</th>\n",
       "      <th>mean smoothness</th>\n",
       "      <th>mean compactness</th>\n",
       "      <th>mean concavity</th>\n",
       "      <th>mean concave points</th>\n",
       "      <th>mean symmetry</th>\n",
       "      <th>mean fractal dimension</th>\n",
       "      <th>...</th>\n",
       "      <th>worst texture</th>\n",
       "      <th>worst perimeter</th>\n",
       "      <th>worst area</th>\n",
       "      <th>worst smoothness</th>\n",
       "      <th>worst compactness</th>\n",
       "      <th>worst concavity</th>\n",
       "      <th>worst concave points</th>\n",
       "      <th>worst symmetry</th>\n",
       "      <th>worst fractal dimension</th>\n",
       "      <th>malignant</th>\n",
       "    </tr>\n",
       "  </thead>\n",
       "  <tbody>\n",
       "    <tr>\n",
       "      <th>0</th>\n",
       "      <td>17.99</td>\n",
       "      <td>10.38</td>\n",
       "      <td>122.80</td>\n",
       "      <td>1001.0</td>\n",
       "      <td>0.11840</td>\n",
       "      <td>0.27760</td>\n",
       "      <td>0.3001</td>\n",
       "      <td>0.14710</td>\n",
       "      <td>0.2419</td>\n",
       "      <td>0.07871</td>\n",
       "      <td>...</td>\n",
       "      <td>17.33</td>\n",
       "      <td>184.60</td>\n",
       "      <td>2019.0</td>\n",
       "      <td>0.1622</td>\n",
       "      <td>0.6656</td>\n",
       "      <td>0.7119</td>\n",
       "      <td>0.2654</td>\n",
       "      <td>0.4601</td>\n",
       "      <td>0.11890</td>\n",
       "      <td>0</td>\n",
       "    </tr>\n",
       "    <tr>\n",
       "      <th>1</th>\n",
       "      <td>20.57</td>\n",
       "      <td>17.77</td>\n",
       "      <td>132.90</td>\n",
       "      <td>1326.0</td>\n",
       "      <td>0.08474</td>\n",
       "      <td>0.07864</td>\n",
       "      <td>0.0869</td>\n",
       "      <td>0.07017</td>\n",
       "      <td>0.1812</td>\n",
       "      <td>0.05667</td>\n",
       "      <td>...</td>\n",
       "      <td>23.41</td>\n",
       "      <td>158.80</td>\n",
       "      <td>1956.0</td>\n",
       "      <td>0.1238</td>\n",
       "      <td>0.1866</td>\n",
       "      <td>0.2416</td>\n",
       "      <td>0.1860</td>\n",
       "      <td>0.2750</td>\n",
       "      <td>0.08902</td>\n",
       "      <td>0</td>\n",
       "    </tr>\n",
       "    <tr>\n",
       "      <th>2</th>\n",
       "      <td>19.69</td>\n",
       "      <td>21.25</td>\n",
       "      <td>130.00</td>\n",
       "      <td>1203.0</td>\n",
       "      <td>0.10960</td>\n",
       "      <td>0.15990</td>\n",
       "      <td>0.1974</td>\n",
       "      <td>0.12790</td>\n",
       "      <td>0.2069</td>\n",
       "      <td>0.05999</td>\n",
       "      <td>...</td>\n",
       "      <td>25.53</td>\n",
       "      <td>152.50</td>\n",
       "      <td>1709.0</td>\n",
       "      <td>0.1444</td>\n",
       "      <td>0.4245</td>\n",
       "      <td>0.4504</td>\n",
       "      <td>0.2430</td>\n",
       "      <td>0.3613</td>\n",
       "      <td>0.08758</td>\n",
       "      <td>0</td>\n",
       "    </tr>\n",
       "    <tr>\n",
       "      <th>3</th>\n",
       "      <td>11.42</td>\n",
       "      <td>20.38</td>\n",
       "      <td>77.58</td>\n",
       "      <td>386.1</td>\n",
       "      <td>0.14250</td>\n",
       "      <td>0.28390</td>\n",
       "      <td>0.2414</td>\n",
       "      <td>0.10520</td>\n",
       "      <td>0.2597</td>\n",
       "      <td>0.09744</td>\n",
       "      <td>...</td>\n",
       "      <td>26.50</td>\n",
       "      <td>98.87</td>\n",
       "      <td>567.7</td>\n",
       "      <td>0.2098</td>\n",
       "      <td>0.8663</td>\n",
       "      <td>0.6869</td>\n",
       "      <td>0.2575</td>\n",
       "      <td>0.6638</td>\n",
       "      <td>0.17300</td>\n",
       "      <td>0</td>\n",
       "    </tr>\n",
       "    <tr>\n",
       "      <th>4</th>\n",
       "      <td>20.29</td>\n",
       "      <td>14.34</td>\n",
       "      <td>135.10</td>\n",
       "      <td>1297.0</td>\n",
       "      <td>0.10030</td>\n",
       "      <td>0.13280</td>\n",
       "      <td>0.1980</td>\n",
       "      <td>0.10430</td>\n",
       "      <td>0.1809</td>\n",
       "      <td>0.05883</td>\n",
       "      <td>...</td>\n",
       "      <td>16.67</td>\n",
       "      <td>152.20</td>\n",
       "      <td>1575.0</td>\n",
       "      <td>0.1374</td>\n",
       "      <td>0.2050</td>\n",
       "      <td>0.4000</td>\n",
       "      <td>0.1625</td>\n",
       "      <td>0.2364</td>\n",
       "      <td>0.07678</td>\n",
       "      <td>0</td>\n",
       "    </tr>\n",
       "  </tbody>\n",
       "</table>\n",
       "<p>5 rows × 31 columns</p>\n",
       "</div>"
      ],
      "text/plain": [
       "   mean radius  mean texture  mean perimeter  mean area  mean smoothness  \\\n",
       "0        17.99         10.38          122.80     1001.0          0.11840   \n",
       "1        20.57         17.77          132.90     1326.0          0.08474   \n",
       "2        19.69         21.25          130.00     1203.0          0.10960   \n",
       "3        11.42         20.38           77.58      386.1          0.14250   \n",
       "4        20.29         14.34          135.10     1297.0          0.10030   \n",
       "\n",
       "   mean compactness  mean concavity  mean concave points  mean symmetry  \\\n",
       "0           0.27760          0.3001              0.14710         0.2419   \n",
       "1           0.07864          0.0869              0.07017         0.1812   \n",
       "2           0.15990          0.1974              0.12790         0.2069   \n",
       "3           0.28390          0.2414              0.10520         0.2597   \n",
       "4           0.13280          0.1980              0.10430         0.1809   \n",
       "\n",
       "   mean fractal dimension  ...  worst texture  worst perimeter  worst area  \\\n",
       "0                 0.07871  ...          17.33           184.60      2019.0   \n",
       "1                 0.05667  ...          23.41           158.80      1956.0   \n",
       "2                 0.05999  ...          25.53           152.50      1709.0   \n",
       "3                 0.09744  ...          26.50            98.87       567.7   \n",
       "4                 0.05883  ...          16.67           152.20      1575.0   \n",
       "\n",
       "   worst smoothness  worst compactness  worst concavity  worst concave points  \\\n",
       "0            0.1622             0.6656           0.7119                0.2654   \n",
       "1            0.1238             0.1866           0.2416                0.1860   \n",
       "2            0.1444             0.4245           0.4504                0.2430   \n",
       "3            0.2098             0.8663           0.6869                0.2575   \n",
       "4            0.1374             0.2050           0.4000                0.1625   \n",
       "\n",
       "   worst symmetry  worst fractal dimension  malignant  \n",
       "0          0.4601                  0.11890          0  \n",
       "1          0.2750                  0.08902          0  \n",
       "2          0.3613                  0.08758          0  \n",
       "3          0.6638                  0.17300          0  \n",
       "4          0.2364                  0.07678          0  \n",
       "\n",
       "[5 rows x 31 columns]"
      ]
     },
     "execution_count": 2,
     "metadata": {},
     "output_type": "execute_result"
    }
   ],
   "source": [
    "df = pd.DataFrame(load_breast_cancer()['data'])\n",
    "df.columns = list(load_breast_cancer()['feature_names'])\n",
    "df['malignant'] = load_breast_cancer()['target']\n",
    "df.head()"
   ]
  },
  {
   "cell_type": "markdown",
   "metadata": {},
   "source": [
    "## Creating training and validaton data"
   ]
  },
  {
   "cell_type": "code",
   "execution_count": 3,
   "metadata": {},
   "outputs": [],
   "source": [
    "train, test = dh.HoldOut(df)\n",
    "X = train.drop(['malignant'], axis='columns')\n",
    "Xval = test.drop(['malignant'], axis='columns')\n",
    "y = train['malignant']\n",
    "yval = test['malignant']"
   ]
  },
  {
   "cell_type": "markdown",
   "metadata": {},
   "source": [
    "## checking for class imbalance"
   ]
  },
  {
   "cell_type": "code",
   "execution_count": 4,
   "metadata": {},
   "outputs": [
    {
     "data": {
      "text/plain": [
       "1    319\n",
       "0    193\n",
       "Name: malignant, dtype: int64"
      ]
     },
     "execution_count": 4,
     "metadata": {},
     "output_type": "execute_result"
    }
   ],
   "source": [
    "y.value_counts()"
   ]
  },
  {
   "cell_type": "markdown",
   "metadata": {},
   "source": [
    "## using SmoteIt to balance classes "
   ]
  },
  {
   "cell_type": "markdown",
   "metadata": {},
   "source": [
    "Smote isn't usually used on data with this low of class imbalance, this is just to demo"
   ]
  },
  {
   "cell_type": "code",
   "execution_count": 5,
   "metadata": {},
   "outputs": [
    {
     "data": {
      "text/html": [
       "<div>\n",
       "<style scoped>\n",
       "    .dataframe tbody tr th:only-of-type {\n",
       "        vertical-align: middle;\n",
       "    }\n",
       "\n",
       "    .dataframe tbody tr th {\n",
       "        vertical-align: top;\n",
       "    }\n",
       "\n",
       "    .dataframe thead th {\n",
       "        text-align: right;\n",
       "    }\n",
       "</style>\n",
       "<table border=\"1\" class=\"dataframe\">\n",
       "  <thead>\n",
       "    <tr style=\"text-align: right;\">\n",
       "      <th></th>\n",
       "      <th>mean radius</th>\n",
       "      <th>mean texture</th>\n",
       "      <th>mean perimeter</th>\n",
       "      <th>mean area</th>\n",
       "      <th>mean smoothness</th>\n",
       "      <th>mean compactness</th>\n",
       "      <th>mean concavity</th>\n",
       "      <th>mean concave points</th>\n",
       "      <th>mean symmetry</th>\n",
       "      <th>mean fractal dimension</th>\n",
       "      <th>...</th>\n",
       "      <th>worst texture</th>\n",
       "      <th>worst perimeter</th>\n",
       "      <th>worst area</th>\n",
       "      <th>worst smoothness</th>\n",
       "      <th>worst compactness</th>\n",
       "      <th>worst concavity</th>\n",
       "      <th>worst concave points</th>\n",
       "      <th>worst symmetry</th>\n",
       "      <th>worst fractal dimension</th>\n",
       "      <th>malignant</th>\n",
       "    </tr>\n",
       "  </thead>\n",
       "  <tbody>\n",
       "    <tr>\n",
       "      <th>0</th>\n",
       "      <td>19.68</td>\n",
       "      <td>21.68</td>\n",
       "      <td>129.90</td>\n",
       "      <td>1194.0</td>\n",
       "      <td>0.09797</td>\n",
       "      <td>0.13390</td>\n",
       "      <td>0.18630</td>\n",
       "      <td>0.11030</td>\n",
       "      <td>0.2082</td>\n",
       "      <td>0.05715</td>\n",
       "      <td>...</td>\n",
       "      <td>34.66</td>\n",
       "      <td>157.60</td>\n",
       "      <td>1540.0</td>\n",
       "      <td>0.12180</td>\n",
       "      <td>0.34580</td>\n",
       "      <td>0.4734</td>\n",
       "      <td>0.2255</td>\n",
       "      <td>0.4045</td>\n",
       "      <td>0.07918</td>\n",
       "      <td>0</td>\n",
       "    </tr>\n",
       "    <tr>\n",
       "      <th>1</th>\n",
       "      <td>12.63</td>\n",
       "      <td>20.76</td>\n",
       "      <td>82.15</td>\n",
       "      <td>480.4</td>\n",
       "      <td>0.09933</td>\n",
       "      <td>0.12090</td>\n",
       "      <td>0.10650</td>\n",
       "      <td>0.06021</td>\n",
       "      <td>0.1735</td>\n",
       "      <td>0.07070</td>\n",
       "      <td>...</td>\n",
       "      <td>25.47</td>\n",
       "      <td>89.00</td>\n",
       "      <td>527.4</td>\n",
       "      <td>0.12870</td>\n",
       "      <td>0.22500</td>\n",
       "      <td>0.2216</td>\n",
       "      <td>0.1105</td>\n",
       "      <td>0.2226</td>\n",
       "      <td>0.08486</td>\n",
       "      <td>1</td>\n",
       "    </tr>\n",
       "    <tr>\n",
       "      <th>2</th>\n",
       "      <td>14.68</td>\n",
       "      <td>20.13</td>\n",
       "      <td>94.74</td>\n",
       "      <td>684.5</td>\n",
       "      <td>0.09867</td>\n",
       "      <td>0.07200</td>\n",
       "      <td>0.07395</td>\n",
       "      <td>0.05259</td>\n",
       "      <td>0.1586</td>\n",
       "      <td>0.05922</td>\n",
       "      <td>...</td>\n",
       "      <td>30.88</td>\n",
       "      <td>123.40</td>\n",
       "      <td>1138.0</td>\n",
       "      <td>0.14640</td>\n",
       "      <td>0.18710</td>\n",
       "      <td>0.2914</td>\n",
       "      <td>0.1609</td>\n",
       "      <td>0.3029</td>\n",
       "      <td>0.08216</td>\n",
       "      <td>0</td>\n",
       "    </tr>\n",
       "    <tr>\n",
       "      <th>3</th>\n",
       "      <td>7.76</td>\n",
       "      <td>24.54</td>\n",
       "      <td>47.92</td>\n",
       "      <td>181.0</td>\n",
       "      <td>0.05263</td>\n",
       "      <td>0.04362</td>\n",
       "      <td>0.00000</td>\n",
       "      <td>0.00000</td>\n",
       "      <td>0.1587</td>\n",
       "      <td>0.05884</td>\n",
       "      <td>...</td>\n",
       "      <td>30.37</td>\n",
       "      <td>59.16</td>\n",
       "      <td>268.6</td>\n",
       "      <td>0.08996</td>\n",
       "      <td>0.06444</td>\n",
       "      <td>0.0000</td>\n",
       "      <td>0.0000</td>\n",
       "      <td>0.2871</td>\n",
       "      <td>0.07039</td>\n",
       "      <td>1</td>\n",
       "    </tr>\n",
       "    <tr>\n",
       "      <th>4</th>\n",
       "      <td>12.45</td>\n",
       "      <td>16.41</td>\n",
       "      <td>82.85</td>\n",
       "      <td>476.7</td>\n",
       "      <td>0.09514</td>\n",
       "      <td>0.15110</td>\n",
       "      <td>0.15440</td>\n",
       "      <td>0.04846</td>\n",
       "      <td>0.2082</td>\n",
       "      <td>0.07325</td>\n",
       "      <td>...</td>\n",
       "      <td>21.03</td>\n",
       "      <td>97.82</td>\n",
       "      <td>580.6</td>\n",
       "      <td>0.11750</td>\n",
       "      <td>0.40610</td>\n",
       "      <td>0.4896</td>\n",
       "      <td>0.1342</td>\n",
       "      <td>0.3231</td>\n",
       "      <td>0.10340</td>\n",
       "      <td>1</td>\n",
       "    </tr>\n",
       "  </tbody>\n",
       "</table>\n",
       "<p>5 rows × 31 columns</p>\n",
       "</div>"
      ],
      "text/plain": [
       "   mean radius  mean texture  mean perimeter  mean area  mean smoothness  \\\n",
       "0        19.68         21.68          129.90     1194.0          0.09797   \n",
       "1        12.63         20.76           82.15      480.4          0.09933   \n",
       "2        14.68         20.13           94.74      684.5          0.09867   \n",
       "3         7.76         24.54           47.92      181.0          0.05263   \n",
       "4        12.45         16.41           82.85      476.7          0.09514   \n",
       "\n",
       "   mean compactness  mean concavity  mean concave points  mean symmetry  \\\n",
       "0           0.13390         0.18630              0.11030         0.2082   \n",
       "1           0.12090         0.10650              0.06021         0.1735   \n",
       "2           0.07200         0.07395              0.05259         0.1586   \n",
       "3           0.04362         0.00000              0.00000         0.1587   \n",
       "4           0.15110         0.15440              0.04846         0.2082   \n",
       "\n",
       "   mean fractal dimension  ...  worst texture  worst perimeter  worst area  \\\n",
       "0                 0.05715  ...          34.66           157.60      1540.0   \n",
       "1                 0.07070  ...          25.47            89.00       527.4   \n",
       "2                 0.05922  ...          30.88           123.40      1138.0   \n",
       "3                 0.05884  ...          30.37            59.16       268.6   \n",
       "4                 0.07325  ...          21.03            97.82       580.6   \n",
       "\n",
       "   worst smoothness  worst compactness  worst concavity  worst concave points  \\\n",
       "0           0.12180            0.34580           0.4734                0.2255   \n",
       "1           0.12870            0.22500           0.2216                0.1105   \n",
       "2           0.14640            0.18710           0.2914                0.1609   \n",
       "3           0.08996            0.06444           0.0000                0.0000   \n",
       "4           0.11750            0.40610           0.4896                0.1342   \n",
       "\n",
       "   worst symmetry  worst fractal dimension  malignant  \n",
       "0          0.4045                  0.07918          0  \n",
       "1          0.2226                  0.08486          1  \n",
       "2          0.3029                  0.08216          0  \n",
       "3          0.2871                  0.07039          1  \n",
       "4          0.3231                  0.10340          1  \n",
       "\n",
       "[5 rows x 31 columns]"
      ]
     },
     "execution_count": 5,
     "metadata": {},
     "output_type": "execute_result"
    }
   ],
   "source": [
    "df2, y = dh.SmoteIt(X, y, bool_arr=[]) # bool_arr is empty because we have no categorical features\n",
    "df2['malignant'] = y\n",
    "df2.head()"
   ]
  },
  {
   "cell_type": "code",
   "execution_count": 6,
   "metadata": {},
   "outputs": [
    {
     "data": {
      "text/plain": [
       "1    319\n",
       "0    319\n",
       "Name: malignant, dtype: int64"
      ]
     },
     "execution_count": 6,
     "metadata": {},
     "output_type": "execute_result"
    }
   ],
   "source": [
    "df2['malignant'].value_counts()"
   ]
  },
  {
   "cell_type": "markdown",
   "metadata": {},
   "source": [
    "## picking best model with CompareModels"
   ]
  },
  {
   "cell_type": "code",
   "execution_count": 7,
   "metadata": {},
   "outputs": [
    {
     "name": "stdout",
     "output_type": "stream",
     "text": [
      "[17:00:08] WARNING: C:/Users/Administrator/workspace/xgboost-win64_release_1.3.0/src/learner.cc:1061: Starting in XGBoost 1.3.0, the default evaluation metric used with the objective 'binary:logistic' was changed from 'error' to 'logloss'. Explicitly set eval_metric if you'd like to restore the old behavior.\n"
     ]
    },
    {
     "data": {
      "text/html": [
       "<div>\n",
       "<style scoped>\n",
       "    .dataframe tbody tr th:only-of-type {\n",
       "        vertical-align: middle;\n",
       "    }\n",
       "\n",
       "    .dataframe tbody tr th {\n",
       "        vertical-align: top;\n",
       "    }\n",
       "\n",
       "    .dataframe thead th {\n",
       "        text-align: right;\n",
       "    }\n",
       "</style>\n",
       "<table border=\"1\" class=\"dataframe\">\n",
       "  <thead>\n",
       "    <tr style=\"text-align: right;\">\n",
       "      <th></th>\n",
       "      <th>Model</th>\n",
       "      <th>train_acc</th>\n",
       "      <th>test_acc</th>\n",
       "    </tr>\n",
       "  </thead>\n",
       "  <tbody>\n",
       "    <tr>\n",
       "      <th>0</th>\n",
       "      <td>KNN</td>\n",
       "      <td>0.951883</td>\n",
       "      <td>0.93750</td>\n",
       "    </tr>\n",
       "    <tr>\n",
       "      <th>1</th>\n",
       "      <td>NB</td>\n",
       "      <td>0.935146</td>\n",
       "      <td>0.93750</td>\n",
       "    </tr>\n",
       "    <tr>\n",
       "      <th>2</th>\n",
       "      <td>DT</td>\n",
       "      <td>1.000000</td>\n",
       "      <td>0.96875</td>\n",
       "    </tr>\n",
       "    <tr>\n",
       "      <th>3</th>\n",
       "      <td>RF</td>\n",
       "      <td>1.000000</td>\n",
       "      <td>0.98125</td>\n",
       "    </tr>\n",
       "    <tr>\n",
       "      <th>4</th>\n",
       "      <td>AB</td>\n",
       "      <td>1.000000</td>\n",
       "      <td>0.96875</td>\n",
       "    </tr>\n",
       "    <tr>\n",
       "      <th>5</th>\n",
       "      <td>GB</td>\n",
       "      <td>1.000000</td>\n",
       "      <td>0.98125</td>\n",
       "    </tr>\n",
       "    <tr>\n",
       "      <th>6</th>\n",
       "      <td>XGB</td>\n",
       "      <td>1.000000</td>\n",
       "      <td>0.96875</td>\n",
       "    </tr>\n",
       "    <tr>\n",
       "      <th>7</th>\n",
       "      <td>Log</td>\n",
       "      <td>0.945607</td>\n",
       "      <td>0.95000</td>\n",
       "    </tr>\n",
       "    <tr>\n",
       "      <th>8</th>\n",
       "      <td>SVM</td>\n",
       "      <td>0.895397</td>\n",
       "      <td>0.91250</td>\n",
       "    </tr>\n",
       "  </tbody>\n",
       "</table>\n",
       "</div>"
      ],
      "text/plain": [
       "  Model  train_acc  test_acc\n",
       "0   KNN   0.951883   0.93750\n",
       "1    NB   0.935146   0.93750\n",
       "2    DT   1.000000   0.96875\n",
       "3    RF   1.000000   0.98125\n",
       "4    AB   1.000000   0.96875\n",
       "5    GB   1.000000   0.98125\n",
       "6   XGB   1.000000   0.96875\n",
       "7   Log   0.945607   0.95000\n",
       "8   SVM   0.895397   0.91250"
      ]
     },
     "execution_count": 7,
     "metadata": {},
     "output_type": "execute_result"
    }
   ],
   "source": [
    "X2 = df2.drop(['malignant'], axis='columns')\n",
    "y2 = df2['malignant']\n",
    "ml.CompareModels(X2, y2, 'classification')"
   ]
  },
  {
   "cell_type": "markdown",
   "metadata": {},
   "source": [
    "## Let's Optimize!!"
   ]
  },
  {
   "cell_type": "markdown",
   "metadata": {},
   "source": [
    "Let's go with XGB, XGBClassifier :), this is because it has the highest test accuracy"
   ]
  },
  {
   "cell_type": "code",
   "execution_count": 8,
   "metadata": {},
   "outputs": [
    {
     "name": "stdout",
     "output_type": "stream",
     "text": [
      "Fitting 3 folds for each of 396 candidates, totalling 1188 fits\n"
     ]
    },
    {
     "name": "stderr",
     "output_type": "stream",
     "text": [
      "[Parallel(n_jobs=-1)]: Using backend LokyBackend with 12 concurrent workers.\n",
      "[Parallel(n_jobs=-1)]: Done  17 tasks      | elapsed:    4.0s\n",
      "[Parallel(n_jobs=-1)]: Done 138 tasks      | elapsed:    5.3s\n",
      "[Parallel(n_jobs=-1)]: Done 526 tasks      | elapsed:   10.1s\n",
      "[Parallel(n_jobs=-1)]: Done 1092 tasks      | elapsed:   16.0s\n"
     ]
    },
    {
     "name": "stdout",
     "output_type": "stream",
     "text": [
      "[17:01:42] WARNING: C:/Users/Administrator/workspace/xgboost-win64_release_1.3.0/src/learner.cc:1061: Starting in XGBoost 1.3.0, the default evaluation metric used with the objective 'binary:logistic' was changed from 'error' to 'logloss'. Explicitly set eval_metric if you'd like to restore the old behavior.\n"
     ]
    },
    {
     "name": "stderr",
     "output_type": "stream",
     "text": [
      "[Parallel(n_jobs=-1)]: Done 1188 out of 1188 | elapsed:   16.9s finished\n"
     ]
    }
   ],
   "source": [
    "from sklearn.ensemble import GradientBoostingClassifier\n",
    "from xgboost import XGBClassifier\n",
    "\n",
    "estimators = al.Estimators(X2, 100) #returns a list of n_estimators to test between\n",
    "grid = {'learning_rate': [0.1, 0.2], 'max_depth': [3, 6, 9], 'min_child_weight': [1, 2], \n",
    "        'subsample': [0.5, 0.7, 1], 'n_estimators': estimators}\n",
    "clf = ml.Optimize(XGBClassifier(), grid, X2, y2)"
   ]
  },
  {
   "cell_type": "markdown",
   "metadata": {},
   "source": [
    "Splitting data and Evaluating tuned models with HoldOut and ScoreModel"
   ]
  },
  {
   "cell_type": "code",
   "execution_count": 9,
   "metadata": {},
   "outputs": [
    {
     "name": "stdout",
     "output_type": "stream",
     "text": [
      "[17:02:25] WARNING: C:/Users/Administrator/workspace/xgboost-win64_release_1.3.0/src/learner.cc:1061: Starting in XGBoost 1.3.0, the default evaluation metric used with the objective 'binary:logistic' was changed from 'error' to 'logloss'. Explicitly set eval_metric if you'd like to restore the old behavior.\n"
     ]
    },
    {
     "data": {
      "text/plain": [
       "'Training: 0.9761904761904762, Validation: 0.8666666666666667'"
      ]
     },
     "execution_count": 9,
     "metadata": {},
     "output_type": "execute_result"
    }
   ],
   "source": [
    "ev.ScoreModel(clf, Xval, yval)"
   ]
  },
  {
   "cell_type": "markdown",
   "metadata": {},
   "source": [
    "## Using BuildConfusion for evaluation"
   ]
  },
  {
   "cell_type": "code",
   "execution_count": 10,
   "metadata": {},
   "outputs": [
    {
     "data": {
      "text/plain": [
       "<sklearn.metrics._plot.confusion_matrix.ConfusionMatrixDisplay at 0x26dce58da60>"
      ]
     },
     "execution_count": 10,
     "metadata": {},
     "output_type": "execute_result"
    },
    {
     "data": {
      "image/png": "[encoded data removed]",
      "text/plain": [
       "<Figure size 432x288 with 2 Axes>"
      ]
     },
     "metadata": {
      "needs_background": "light"
     },
     "output_type": "display_data"
    }
   ],
   "source": [
    "ev.BuildConfusion(clf, Xval, yval)"
   ]
  },
  {
   "cell_type": "markdown",
   "metadata": {},
   "source": [
    "## Deep Learning approach"
   ]
  },
  {
   "cell_type": "code",
   "execution_count": 11,
   "metadata": {},
   "outputs": [],
   "source": [
    "X, y = dh.SmoteIt(load_breast_cancer()['data'], load_breast_cancer()['target'], bool_arr=[])"
   ]
  },
  {
   "cell_type": "markdown",
   "metadata": {},
   "source": [
    "## Model Building"
   ]
  },
  {
   "cell_type": "markdown",
   "metadata": {},
   "source": [
    "You can use DeepLearning().FastNN() with task set to 'classification'"
   ]
  },
  {
   "cell_type": "code",
   "execution_count": 12,
   "metadata": {},
   "outputs": [],
   "source": [
    "output_dim = 2 #because we have 2 classes (malignant and not malignant)\n",
    "nodes = 64 #first layer will have 64 nodes\n",
    "activation = 'relu' #Rectified Linear Unit activation function\n",
    "regularizer = 'L2' #prevents overfitting\n",
    "stacking = True #second layer will also have 64 nodes\n",
    "dropout = False #another overfitting solution, we will not be using it this time\n",
    "nlayers = 4 #neural network will have 4 layers\n",
    "closer = False \n",
    "loss = 'binary_crossentropy' #best loss function for binary classification\n",
    "optimizer = 'adam' #adaptive momentum estimation optimization function \n",
    "model = dl.DeepTabularClassification(output_dim, nodes, activation, regularizer, stacking,\n",
    "                                     dropout, nlayers, closer, loss, optimizer)"
   ]
  },
  {
   "cell_type": "markdown",
   "metadata": {},
   "source": [
    "visit https://machinelearningmastery.com/adam-optimization-algorithm-for-deep-learning/ to read more about adam if you want"
   ]
  },
  {
   "cell_type": "code",
   "execution_count": 13,
   "metadata": {},
   "outputs": [
    {
     "name": "stdout",
     "output_type": "stream",
     "text": [
      "Epoch 1/75\n",
      "16/16 [==============================] - 1s 61ms/step - loss: 23.2143 - accuracy: 0.3975 - val_loss: 0.6204 - val_accuracy: 0.9844\n",
      "Epoch 2/75\n",
      "16/16 [==============================] - 0s 3ms/step - loss: 2.8164 - accuracy: 0.5589 - val_loss: 0.4952 - val_accuracy: 0.9609\n",
      "Epoch 3/75\n",
      "16/16 [==============================] - 0s 3ms/step - loss: 0.7889 - accuracy: 0.8586 - val_loss: 0.5425 - val_accuracy: 0.8828\n",
      "Epoch 4/75\n",
      "16/16 [==============================] - 0s 3ms/step - loss: 0.7017 - accuracy: 0.8815 - val_loss: 0.4185 - val_accuracy: 0.9297\n",
      "Epoch 5/75\n",
      "16/16 [==============================] - 0s 3ms/step - loss: 0.5688 - accuracy: 0.8839 - val_loss: 0.6740 - val_accuracy: 0.8438\n",
      "Epoch 6/75\n",
      "16/16 [==============================] - 0s 3ms/step - loss: 0.5698 - accuracy: 0.8772 - val_loss: 0.4840 - val_accuracy: 0.8594\n",
      "Epoch 7/75\n",
      "16/16 [==============================] - 0s 3ms/step - loss: 0.4284 - accuracy: 0.9024 - val_loss: 0.5751 - val_accuracy: 0.8516\n",
      "Epoch 8/75\n",
      "16/16 [==============================] - 0s 3ms/step - loss: 0.4482 - accuracy: 0.9014 - val_loss: 0.2430 - val_accuracy: 0.9062\n",
      "Epoch 9/75\n",
      "16/16 [==============================] - 0s 3ms/step - loss: 0.3476 - accuracy: 0.9198 - val_loss: 0.2260 - val_accuracy: 0.9062\n",
      "Epoch 10/75\n",
      "16/16 [==============================] - 0s 3ms/step - loss: 0.3410 - accuracy: 0.9223 - val_loss: 0.1403 - val_accuracy: 0.9688\n",
      "Epoch 11/75\n",
      "16/16 [==============================] - 0s 3ms/step - loss: 0.3627 - accuracy: 0.9097 - val_loss: 0.3958 - val_accuracy: 0.8906\n",
      "Epoch 12/75\n",
      "16/16 [==============================] - 0s 3ms/step - loss: 0.3075 - accuracy: 0.9193 - val_loss: 0.3466 - val_accuracy: 0.8828\n",
      "Epoch 13/75\n",
      "16/16 [==============================] - 0s 3ms/step - loss: 0.2554 - accuracy: 0.9261 - val_loss: 0.1748 - val_accuracy: 0.9219\n",
      "Epoch 14/75\n",
      "16/16 [==============================] - 0s 3ms/step - loss: 0.3427 - accuracy: 0.9052 - val_loss: 0.1474 - val_accuracy: 0.9375\n",
      "Epoch 15/75\n",
      "16/16 [==============================] - 0s 3ms/step - loss: 0.3014 - accuracy: 0.9098 - val_loss: 0.1719 - val_accuracy: 0.9141\n",
      "Epoch 16/75\n",
      "16/16 [==============================] - 0s 3ms/step - loss: 0.3222 - accuracy: 0.8840 - val_loss: 0.5333 - val_accuracy: 0.8516\n",
      "Epoch 17/75\n",
      "16/16 [==============================] - 0s 3ms/step - loss: 0.2615 - accuracy: 0.9300 - val_loss: 0.1098 - val_accuracy: 0.9766\n",
      "Epoch 18/75\n",
      "16/16 [==============================] - 0s 3ms/step - loss: 0.3095 - accuracy: 0.9176 - val_loss: 0.5122 - val_accuracy: 0.8828\n",
      "Epoch 19/75\n",
      "16/16 [==============================] - 0s 3ms/step - loss: 0.2485 - accuracy: 0.9282 - val_loss: 0.1976 - val_accuracy: 0.9141\n",
      "Epoch 20/75\n",
      "16/16 [==============================] - 0s 3ms/step - loss: 0.2455 - accuracy: 0.9328 - val_loss: 0.1678 - val_accuracy: 0.9141\n",
      "Epoch 21/75\n",
      "16/16 [==============================] - 0s 3ms/step - loss: 0.2466 - accuracy: 0.9202 - val_loss: 0.3735 - val_accuracy: 0.8828\n",
      "Epoch 22/75\n",
      "16/16 [==============================] - 0s 3ms/step - loss: 0.2223 - accuracy: 0.9402 - val_loss: 0.1208 - val_accuracy: 0.9688\n",
      "Epoch 23/75\n",
      "16/16 [==============================] - 0s 3ms/step - loss: 0.2843 - accuracy: 0.9156 - val_loss: 0.4321 - val_accuracy: 0.8750\n",
      "Epoch 24/75\n",
      "16/16 [==============================] - 0s 3ms/step - loss: 0.2420 - accuracy: 0.9282 - val_loss: 0.2161 - val_accuracy: 0.8984\n",
      "Epoch 25/75\n",
      "16/16 [==============================] - 0s 3ms/step - loss: 0.2213 - accuracy: 0.9216 - val_loss: 0.1710 - val_accuracy: 0.9219\n",
      "Epoch 26/75\n",
      "16/16 [==============================] - 0s 3ms/step - loss: 0.2087 - accuracy: 0.9276 - val_loss: 0.1514 - val_accuracy: 0.9141\n",
      "Epoch 27/75\n",
      "16/16 [==============================] - 0s 3ms/step - loss: 0.2479 - accuracy: 0.9262 - val_loss: 0.2663 - val_accuracy: 0.8828\n",
      "Epoch 28/75\n",
      "16/16 [==============================] - 0s 3ms/step - loss: 0.2957 - accuracy: 0.8997 - val_loss: 0.4848 - val_accuracy: 0.8672\n",
      "Epoch 29/75\n",
      "16/16 [==============================] - 0s 3ms/step - loss: 0.2476 - accuracy: 0.9349 - val_loss: 0.4206 - val_accuracy: 0.8672\n",
      "Epoch 30/75\n",
      "16/16 [==============================] - 0s 3ms/step - loss: 0.2206 - accuracy: 0.9331 - val_loss: 0.3052 - val_accuracy: 0.8828\n",
      "Epoch 31/75\n",
      "16/16 [==============================] - 0s 3ms/step - loss: 0.2428 - accuracy: 0.9182 - val_loss: 0.2428 - val_accuracy: 0.8828\n",
      "Epoch 32/75\n",
      "16/16 [==============================] - 0s 3ms/step - loss: 0.2321 - accuracy: 0.9151 - val_loss: 0.2028 - val_accuracy: 0.8984\n",
      "Epoch 33/75\n",
      "16/16 [==============================] - 0s 3ms/step - loss: 0.2492 - accuracy: 0.9186 - val_loss: 0.2074 - val_accuracy: 0.8984\n",
      "Epoch 34/75\n",
      "16/16 [==============================] - 0s 3ms/step - loss: 0.2205 - accuracy: 0.9466 - val_loss: 0.2018 - val_accuracy: 0.8984\n",
      "Epoch 35/75\n",
      "16/16 [==============================] - 0s 3ms/step - loss: 0.1816 - accuracy: 0.9465 - val_loss: 0.1030 - val_accuracy: 0.9844\n",
      "Epoch 36/75\n",
      "16/16 [==============================] - 0s 3ms/step - loss: 0.2857 - accuracy: 0.9113 - val_loss: 0.1891 - val_accuracy: 0.9141\n",
      "Epoch 37/75\n",
      "16/16 [==============================] - 0s 3ms/step - loss: 0.2481 - accuracy: 0.9089 - val_loss: 0.3206 - val_accuracy: 0.8828\n",
      "Epoch 38/75\n",
      "16/16 [==============================] - 0s 3ms/step - loss: 0.3036 - accuracy: 0.9095 - val_loss: 0.2080 - val_accuracy: 0.8984\n",
      "Epoch 39/75\n",
      "16/16 [==============================] - 0s 3ms/step - loss: 0.2952 - accuracy: 0.9181 - val_loss: 0.3332 - val_accuracy: 0.8906\n",
      "Epoch 40/75\n",
      "16/16 [==============================] - 0s 3ms/step - loss: 0.2188 - accuracy: 0.9335 - val_loss: 0.2665 - val_accuracy: 0.8828\n",
      "Epoch 41/75\n",
      "16/16 [==============================] - 0s 3ms/step - loss: 0.2465 - accuracy: 0.9151 - val_loss: 0.2728 - val_accuracy: 0.8828\n",
      "Epoch 42/75\n",
      "16/16 [==============================] - 0s 3ms/step - loss: 0.2511 - accuracy: 0.9244 - val_loss: 0.3095 - val_accuracy: 0.8828\n",
      "Epoch 43/75\n",
      "16/16 [==============================] - 0s 3ms/step - loss: 0.2268 - accuracy: 0.9250 - val_loss: 0.1253 - val_accuracy: 0.9375\n",
      "Epoch 44/75\n",
      "16/16 [==============================] - 0s 3ms/step - loss: 0.3706 - accuracy: 0.8762 - val_loss: 0.0732 - val_accuracy: 0.9922\n",
      "Epoch 45/75\n",
      "16/16 [==============================] - 0s 3ms/step - loss: 0.2338 - accuracy: 0.9372 - val_loss: 0.1832 - val_accuracy: 0.9141\n",
      "Epoch 46/75\n",
      "16/16 [==============================] - 0s 3ms/step - loss: 0.2176 - accuracy: 0.9240 - val_loss: 0.1735 - val_accuracy: 0.9141\n",
      "Epoch 47/75\n",
      "16/16 [==============================] - 0s 3ms/step - loss: 0.2339 - accuracy: 0.9170 - val_loss: 0.3982 - val_accuracy: 0.8828\n",
      "Epoch 48/75\n",
      "16/16 [==============================] - 0s 3ms/step - loss: 0.4146 - accuracy: 0.8997 - val_loss: 1.6567 - val_accuracy: 0.6641\n",
      "Epoch 49/75\n",
      "16/16 [==============================] - 0s 3ms/step - loss: 0.4858 - accuracy: 0.8862 - val_loss: 0.1164 - val_accuracy: 0.9453\n",
      "Epoch 50/75\n",
      "16/16 [==============================] - 0s 3ms/step - loss: 0.2235 - accuracy: 0.9375 - val_loss: 0.2908 - val_accuracy: 0.8828\n",
      "Epoch 51/75\n",
      "16/16 [==============================] - 0s 3ms/step - loss: 0.2003 - accuracy: 0.9347 - val_loss: 0.7994 - val_accuracy: 0.8047\n",
      "Epoch 52/75\n",
      "16/16 [==============================] - 0s 3ms/step - loss: 0.5266 - accuracy: 0.8812 - val_loss: 0.2151 - val_accuracy: 0.9141\n",
      "Epoch 53/75\n",
      "16/16 [==============================] - 0s 3ms/step - loss: 0.2276 - accuracy: 0.9344 - val_loss: 0.4166 - val_accuracy: 0.8672\n",
      "Epoch 54/75\n",
      "16/16 [==============================] - 0s 3ms/step - loss: 0.2304 - accuracy: 0.9346 - val_loss: 0.3259 - val_accuracy: 0.8828\n",
      "Epoch 55/75\n",
      "16/16 [==============================] - 0s 3ms/step - loss: 0.1963 - accuracy: 0.9356 - val_loss: 0.1953 - val_accuracy: 0.9062\n",
      "Epoch 56/75\n",
      "16/16 [==============================] - 0s 3ms/step - loss: 0.2079 - accuracy: 0.9190 - val_loss: 0.2621 - val_accuracy: 0.8828\n",
      "Epoch 57/75\n",
      "16/16 [==============================] - 0s 3ms/step - loss: 0.1895 - accuracy: 0.9538 - val_loss: 0.1547 - val_accuracy: 0.9297\n",
      "Epoch 58/75\n",
      "16/16 [==============================] - 0s 3ms/step - loss: 0.2852 - accuracy: 0.9170 - val_loss: 0.4311 - val_accuracy: 0.8828\n",
      "Epoch 59/75\n"
     ]
    },
    {
     "name": "stdout",
     "output_type": "stream",
     "text": [
      "16/16 [==============================] - 0s 3ms/step - loss: 0.1975 - accuracy: 0.9338 - val_loss: 0.2736 - val_accuracy: 0.8828\n",
      "Epoch 60/75\n",
      "16/16 [==============================] - 0s 3ms/step - loss: 0.2201 - accuracy: 0.9331 - val_loss: 0.1468 - val_accuracy: 0.9297\n",
      "Epoch 61/75\n",
      "16/16 [==============================] - 0s 3ms/step - loss: 0.2150 - accuracy: 0.9290 - val_loss: 0.2478 - val_accuracy: 0.8984\n",
      "Epoch 62/75\n",
      "16/16 [==============================] - 0s 3ms/step - loss: 0.2313 - accuracy: 0.9301 - val_loss: 0.2086 - val_accuracy: 0.9062\n",
      "Epoch 63/75\n",
      "16/16 [==============================] - 0s 3ms/step - loss: 0.2403 - accuracy: 0.9205 - val_loss: 0.1256 - val_accuracy: 0.9609\n",
      "Epoch 64/75\n",
      "16/16 [==============================] - 0s 3ms/step - loss: 0.2371 - accuracy: 0.9375 - val_loss: 0.4337 - val_accuracy: 0.8672\n",
      "Epoch 65/75\n",
      "16/16 [==============================] - 0s 3ms/step - loss: 0.3730 - accuracy: 0.8816 - val_loss: 0.5501 - val_accuracy: 0.8594\n",
      "Epoch 66/75\n",
      "16/16 [==============================] - 0s 3ms/step - loss: 0.2948 - accuracy: 0.9227 - val_loss: 0.1331 - val_accuracy: 0.9375\n",
      "Epoch 67/75\n",
      "16/16 [==============================] - 0s 3ms/step - loss: 0.2148 - accuracy: 0.9306 - val_loss: 0.1125 - val_accuracy: 0.9609\n",
      "Epoch 68/75\n",
      "16/16 [==============================] - 0s 3ms/step - loss: 0.2597 - accuracy: 0.9133 - val_loss: 0.1834 - val_accuracy: 0.9062\n",
      "Epoch 69/75\n",
      "16/16 [==============================] - 0s 3ms/step - loss: 0.2066 - accuracy: 0.9471 - val_loss: 0.8210 - val_accuracy: 0.7969\n",
      "Epoch 70/75\n",
      "16/16 [==============================] - 0s 3ms/step - loss: 0.3344 - accuracy: 0.9100 - val_loss: 0.0853 - val_accuracy: 1.0000\n",
      "Epoch 71/75\n",
      "16/16 [==============================] - 0s 3ms/step - loss: 0.4620 - accuracy: 0.8775 - val_loss: 0.4371 - val_accuracy: 0.8828\n",
      "Epoch 72/75\n",
      "16/16 [==============================] - 0s 3ms/step - loss: 0.2213 - accuracy: 0.9428 - val_loss: 0.2744 - val_accuracy: 0.8984\n",
      "Epoch 73/75\n",
      "16/16 [==============================] - 0s 3ms/step - loss: 0.2531 - accuracy: 0.9148 - val_loss: 0.5050 - val_accuracy: 0.8672\n",
      "Epoch 74/75\n",
      "16/16 [==============================] - 0s 3ms/step - loss: 0.3022 - accuracy: 0.9202 - val_loss: 0.1397 - val_accuracy: 0.9297\n",
      "Epoch 75/75\n",
      "16/16 [==============================] - 0s 3ms/step - loss: 0.2464 - accuracy: 0.9289 - val_loss: 0.3006 - val_accuracy: 0.8828\n"
     ]
    }
   ],
   "source": [
    "y3 = dl.MulticlassOutput(np.array(y2)) #using MulticlassOutput to encode labels\n",
    "yv2 = dl.MulticlassOutput(np.array(yval))\n",
    "history = model.fit(X2, y3, batch_size=32, epochs=75, validation_split=0.2)"
   ]
  },
  {
   "cell_type": "code",
   "execution_count": 14,
   "metadata": {},
   "outputs": [
    {
     "data": {
      "image/png": "[encoded data removed]",
      "text/plain": [
       "<Figure size 432x288 with 1 Axes>"
      ]
     },
     "metadata": {
      "needs_background": "light"
     },
     "output_type": "display_data"
    }
   ],
   "source": [
    "ev.ViewLoss(history)"
   ]
  },
  {
   "cell_type": "code",
   "execution_count": 15,
   "metadata": {},
   "outputs": [
    {
     "data": {
      "image/png": "[encoded data removed]",
      "text/plain": [
       "<Figure size 432x288 with 1 Axes>"
      ]
     },
     "metadata": {
      "needs_background": "light"
     },
     "output_type": "display_data"
    }
   ],
   "source": [
    "ev.ViewAccuracy(history)"
   ]
  },
  {
   "cell_type": "code",
   "execution_count": 16,
   "metadata": {},
   "outputs": [
    {
     "data": {
      "text/plain": [
       "<AxesSubplot:xlabel='Predict', ylabel='True'>"
      ]
     },
     "execution_count": 16,
     "metadata": {},
     "output_type": "execute_result"
    },
    {
     "data": {
      "image/png": "[encoded data removed]",
      "text/plain": [
       "<Figure size 432x288 with 2 Axes>"
      ]
     },
     "metadata": {
      "needs_background": "light"
     },
     "output_type": "display_data"
    }
   ],
   "source": [
    "ev.BuildConfusionDL(model, Xval, yv2)"
   ]
  },
  {
   "cell_type": "markdown",
   "metadata": {},
   "source": [
    "## A fast and dirty approach with Wrappers().WrapML()"
   ]
  },
  {
   "cell_type": "code",
   "execution_count": 17,
   "metadata": {},
   "outputs": [
    {
     "name": "stdout",
     "output_type": "stream",
     "text": [
      "[17:04:53] WARNING: C:/Users/Administrator/workspace/xgboost-win64_release_1.3.0/src/learner.cc:1061: Starting in XGBoost 1.3.0, the default evaluation metric used with the objective 'binary:logistic' was changed from 'error' to 'logloss'. Explicitly set eval_metric if you'd like to restore the old behavior.\n",
      "XGBClassifier(base_score=None, booster=None, colsample_bylevel=None,\n",
      "              colsample_bynode=None, colsample_bytree=None, gamma=None,\n",
      "              gpu_id=None, importance_type='gain', interaction_constraints=None,\n",
      "              learning_rate=None, max_delta_step=None, max_depth=None,\n",
      "              min_child_weight=None, missing=nan, monotone_constraints=None,\n",
      "              n_estimators=100, n_jobs=None, num_parallel_tree=None,\n",
      "              random_state=None, reg_alpha=None, reg_lambda=None,\n",
      "              scale_pos_weight=None, subsample=None, tree_method=None,\n",
      "              validate_parameters=None, verbosity=None)\n",
      "[17:04:53] WARNING: C:/Users/Administrator/workspace/xgboost-win64_release_1.3.0/src/learner.cc:1061: Starting in XGBoost 1.3.0, the default evaluation metric used with the objective 'binary:logistic' was changed from 'error' to 'logloss'. Explicitly set eval_metric if you'd like to restore the old behavior.\n"
     ]
    },
    {
     "data": {
      "image/png": "[encoded data removed]",
      "text/plain": [
       "<Figure size 432x288 with 2 Axes>"
      ]
     },
     "metadata": {
      "needs_background": "light"
     },
     "output_type": "display_data"
    },
    {
     "name": "stdout",
     "output_type": "stream",
     "text": [
      "Raw Vanilla\n",
      "General score is 1.0 and AUC is 1.0\n",
      "Fitting 3 folds for each of 396 candidates, totalling 1188 fits\n"
     ]
    },
    {
     "name": "stderr",
     "output_type": "stream",
     "text": [
      "[Parallel(n_jobs=-1)]: Using backend LokyBackend with 12 concurrent workers.\n",
      "[Parallel(n_jobs=-1)]: Done  17 tasks      | elapsed:    0.2s\n",
      "[Parallel(n_jobs=-1)]: Done 252 tasks      | elapsed:    2.4s\n",
      "[Parallel(n_jobs=-1)]: Done 658 tasks      | elapsed:    6.2s\n",
      "[Parallel(n_jobs=-1)]: Done 1165 out of 1188 | elapsed:   11.1s remaining:    0.1s\n",
      "[Parallel(n_jobs=-1)]: Done 1188 out of 1188 | elapsed:   11.3s finished\n"
     ]
    },
    {
     "name": "stdout",
     "output_type": "stream",
     "text": [
      "[17:05:05] WARNING: C:/Users/Administrator/workspace/xgboost-win64_release_1.3.0/src/learner.cc:1061: Starting in XGBoost 1.3.0, the default evaluation metric used with the objective 'binary:logistic' was changed from 'error' to 'logloss'. Explicitly set eval_metric if you'd like to restore the old behavior.\n"
     ]
    },
    {
     "data": {
      "image/png": "[encoded data removed]",
      "text/plain": [
       "<Figure size 432x288 with 2 Axes>"
      ]
     },
     "metadata": {
      "needs_background": "light"
     },
     "output_type": "display_data"
    },
    {
     "name": "stdout",
     "output_type": "stream",
     "text": [
      "Raw Data, Optimized Model\n",
      "General score is 0.9459459459459459 and AUC is 0.972972972972973\n",
      "[17:05:05] WARNING: C:/Users/Administrator/workspace/xgboost-win64_release_1.3.0/src/learner.cc:1061: Starting in XGBoost 1.3.0, the default evaluation metric used with the objective 'binary:logistic' was changed from 'error' to 'logloss'. Explicitly set eval_metric if you'd like to restore the old behavior.\n",
      "[17:05:05] WARNING: C:/Users/Administrator/workspace/xgboost-win64_release_1.3.0/src/learner.cc:1061: Starting in XGBoost 1.3.0, the default evaluation metric used with the objective 'binary:logistic' was changed from 'error' to 'logloss'. Explicitly set eval_metric if you'd like to restore the old behavior.\n",
      "Fitting 3 folds for each of 396 candidates, totalling 1188 fits\n"
     ]
    },
    {
     "name": "stderr",
     "output_type": "stream",
     "text": [
      "[Parallel(n_jobs=-1)]: Using backend LokyBackend with 12 concurrent workers.\n",
      "[Parallel(n_jobs=-1)]: Done  17 tasks      | elapsed:    0.2s\n",
      "[Parallel(n_jobs=-1)]: Done 252 tasks      | elapsed:    2.4s\n",
      "[Parallel(n_jobs=-1)]: Done 658 tasks      | elapsed:    6.3s\n",
      "[Parallel(n_jobs=-1)]: Done 1188 out of 1188 | elapsed:   10.9s finished\n"
     ]
    },
    {
     "name": "stdout",
     "output_type": "stream",
     "text": [
      "[17:05:16] WARNING: C:/Users/Administrator/workspace/xgboost-win64_release_1.3.0/src/learner.cc:1061: Starting in XGBoost 1.3.0, the default evaluation metric used with the objective 'binary:logistic' was changed from 'error' to 'logloss'. Explicitly set eval_metric if you'd like to restore the old behavior.\n"
     ]
    },
    {
     "data": {
      "image/png": "[encoded data removed]",
      "text/plain": [
       "<Figure size 432x288 with 2 Axes>"
      ]
     },
     "metadata": {
      "needs_background": "light"
     },
     "output_type": "display_data"
    },
    {
     "name": "stdout",
     "output_type": "stream",
     "text": [
      "Data is scaled with minmax scaler, Model is optimized\n",
      "General score is 0.6216216216216216 and AUC is 0.8108108108108107\n",
      "Smoting!!\n",
      "Fitting 3 folds for each of 396 candidates, totalling 1188 fits\n"
     ]
    },
    {
     "name": "stderr",
     "output_type": "stream",
     "text": [
      "[Parallel(n_jobs=-1)]: Using backend LokyBackend with 12 concurrent workers.\n",
      "[Parallel(n_jobs=-1)]: Done  17 tasks      | elapsed:    0.2s\n",
      "[Parallel(n_jobs=-1)]: Done 252 tasks      | elapsed:    2.7s\n",
      "[Parallel(n_jobs=-1)]: Done 658 tasks      | elapsed:    7.1s\n",
      "[Parallel(n_jobs=-1)]: Done 1188 out of 1188 | elapsed:   12.1s finished\n"
     ]
    },
    {
     "name": "stdout",
     "output_type": "stream",
     "text": [
      "[17:05:29] WARNING: C:/Users/Administrator/workspace/xgboost-win64_release_1.3.0/src/learner.cc:1061: Starting in XGBoost 1.3.0, the default evaluation metric used with the objective 'binary:logistic' was changed from 'error' to 'logloss'. Explicitly set eval_metric if you'd like to restore the old behavior.\n"
     ]
    },
    {
     "data": {
      "image/png": "[encoded data removed]",
      "text/plain": [
       "<Figure size 432x288 with 2 Axes>"
      ]
     },
     "metadata": {
      "needs_background": "light"
     },
     "output_type": "display_data"
    },
    {
     "name": "stdout",
     "output_type": "stream",
     "text": [
      "Data is scaled with minmax scaler and Smoted. Model is optimized\n",
      "General score is 0.5135135135135135 and AUC is 0.7567567567567568\n",
      "[17:05:29] WARNING: C:/Users/Administrator/workspace/xgboost-win64_release_1.3.0/src/learner.cc:1061: Starting in XGBoost 1.3.0, the default evaluation metric used with the objective 'binary:logistic' was changed from 'error' to 'logloss'. Explicitly set eval_metric if you'd like to restore the old behavior.\n",
      "[17:05:29] WARNING: C:/Users/Administrator/workspace/xgboost-win64_release_1.3.0/src/learner.cc:1061: Starting in XGBoost 1.3.0, the default evaluation metric used with the objective 'binary:logistic' was changed from 'error' to 'logloss'. Explicitly set eval_metric if you'd like to restore the old behavior.\n",
      "[17:05:29] WARNING: C:/Users/Administrator/workspace/xgboost-win64_release_1.3.0/src/learner.cc:1061: Starting in XGBoost 1.3.0, the default evaluation metric used with the objective 'binary:logistic' was changed from 'error' to 'logloss'. Explicitly set eval_metric if you'd like to restore the old behavior.\n",
      "[17:05:29] WARNING: C:/Users/Administrator/workspace/xgboost-win64_release_1.3.0/src/learner.cc:1061: Starting in XGBoost 1.3.0, the default evaluation metric used with the objective 'binary:logistic' was changed from 'error' to 'logloss'. Explicitly set eval_metric if you'd like to restore the old behavior.\n",
      "Fitting 3 folds for each of 396 candidates, totalling 1188 fits\n"
     ]
    },
    {
     "name": "stderr",
     "output_type": "stream",
     "text": [
      "[Parallel(n_jobs=-1)]: Using backend LokyBackend with 12 concurrent workers.\n",
      "[Parallel(n_jobs=-1)]: Done  17 tasks      | elapsed:    0.2s\n",
      "[Parallel(n_jobs=-1)]: Done 432 tasks      | elapsed:    3.7s\n",
      "[Parallel(n_jobs=-1)]: Done 1165 out of 1188 | elapsed:   10.0s remaining:    0.1s\n",
      "[Parallel(n_jobs=-1)]: Done 1188 out of 1188 | elapsed:   10.2s finished\n"
     ]
    },
    {
     "name": "stdout",
     "output_type": "stream",
     "text": [
      "[17:05:40] WARNING: C:/Users/Administrator/workspace/xgboost-win64_release_1.3.0/src/learner.cc:1061: Starting in XGBoost 1.3.0, the default evaluation metric used with the objective 'binary:logistic' was changed from 'error' to 'logloss'. Explicitly set eval_metric if you'd like to restore the old behavior.\n"
     ]
    },
    {
     "data": {
      "image/png": "[encoded data removed]",
      "text/plain": [
       "<Figure size 432x288 with 2 Axes>"
      ]
     },
     "metadata": {
      "needs_background": "light"
     },
     "output_type": "display_data"
    },
    {
     "name": "stdout",
     "output_type": "stream",
     "text": [
      "Data is scaled with minmax scaler and Smoted. Model is optimized\n",
      "Using ['mean radius', 'mean perimeter', 'mean area', 'mean compactness', 'mean concavity', 'mean concave points', 'radius error', 'perimeter error', 'area error', 'worst radius', 'worst texture', 'worst perimeter', 'worst area', 'worst compactness', 'worst concavity', 'worst concave points'] as features\n",
      "General score is 0.5405405405405406 and AUC is 0.7702702702702703\n"
     ]
    },
    {
     "data": {
      "image/png": "[encoded data removed]",
      "text/plain": [
       "<Figure size 432x288 with 1 Axes>"
      ]
     },
     "metadata": {
      "needs_background": "light"
     },
     "output_type": "display_data"
    }
   ],
   "source": [
    "final_model, data, scaler, dim = wr.WrapML(df, 'malignant', 'classification', quiet=False)"
   ]
  },
  {
   "cell_type": "code",
   "execution_count": 18,
   "metadata": {},
   "outputs": [
    {
     "data": {
      "text/plain": [
       "XGBClassifier(base_score=0.5, booster='gbtree', colsample_bylevel=1,\n",
       "              colsample_bynode=1, colsample_bytree=1, gamma=0, gpu_id=-1,\n",
       "              importance_type='gain', interaction_constraints='',\n",
       "              learning_rate=0.300000012, max_delta_step=0, max_depth=6,\n",
       "              min_child_weight=1, missing=nan, monotone_constraints='()',\n",
       "              n_estimators=100, n_jobs=12, num_parallel_tree=1, random_state=0,\n",
       "              reg_alpha=0, reg_lambda=1, scale_pos_weight=1, subsample=1,\n",
       "              tree_method='exact', validate_parameters=1, verbosity=None)"
      ]
     },
     "execution_count": 18,
     "metadata": {},
     "output_type": "execute_result"
    }
   ],
   "source": [
    "final_model"
   ]
  },
  {
   "cell_type": "code",
   "execution_count": 21,
   "metadata": {},
   "outputs": [
    {
     "name": "stdout",
     "output_type": "stream",
     "text": [
      "None\n"
     ]
    }
   ],
   "source": [
    "print(scaler)"
   ]
  },
  {
   "cell_type": "code",
   "execution_count": 22,
   "metadata": {},
   "outputs": [
    {
     "name": "stdout",
     "output_type": "stream",
     "text": [
      "Index(['mean radius', 'mean texture', 'mean perimeter', 'mean area',\n",
      "       'mean smoothness', 'mean compactness', 'mean concavity',\n",
      "       'mean concave points', 'mean symmetry', 'mean fractal dimension',\n",
      "       'radius error', 'texture error', 'perimeter error', 'area error',\n",
      "       'smoothness error', 'compactness error', 'concavity error',\n",
      "       'concave points error', 'symmetry error', 'fractal dimension error',\n",
      "       'worst radius', 'worst texture', 'worst perimeter', 'worst area',\n",
      "       'worst smoothness', 'worst compactness', 'worst concavity',\n",
      "       'worst concave points', 'worst symmetry', 'worst fractal dimension',\n",
      "       'malignant'],\n",
      "      dtype='object')\n"
     ]
    }
   ],
   "source": [
    "print(data.columns)"
   ]
  },
  {
   "cell_type": "code",
   "execution_count": 23,
   "metadata": {},
   "outputs": [
    {
     "name": "stdout",
     "output_type": "stream",
     "text": [
      "(512, 31)\n"
     ]
    }
   ],
   "source": [
    "print(data.shape)"
   ]
  },
  {
   "cell_type": "code",
   "execution_count": null,
   "metadata": {},
   "outputs": [],
   "source": []
  }
 ],
 "metadata": {
  "kernelspec": {
   "display_name": "Python 3",
   "language": "python",
   "name": "python3"
  },
  "language_info": {
   "codemirror_mode": {
    "name": "ipython",
    "version": 3
   },
   "file_extension": ".py",
   "mimetype": "text/x-python",
   "name": "python",
   "nbconvert_exporter": "python",
   "pygments_lexer": "ipython3",
   "version": "3.8.5"
  }
 },
 "nbformat": 4,
 "nbformat_minor": 4
}
