{
 "cells": [
  {
   "cell_type": "markdown",
   "metadata": {},
   "source": [
    "## Importing libraries and data"
   ]
  },
  {
   "cell_type": "code",
   "execution_count": 1,
   "metadata": {},
   "outputs": [],
   "source": [
    "from potosnail import MachineLearning, DeepLearning, DataHelper, Evaluater, Algorithms, Wrappers\n",
    "from sklearn.datasets import load_boston #loading boston housing data\n",
    "import pandas as pd\n",
    "import numpy as np\n",
    "\n",
    "# class instantiations\n",
    "ml = MachineLearning()\n",
    "dl = DeepLearning()\n",
    "dh = DataHelper()\n",
    "ev = Evaluater()\n",
    "al = Algorithms()\n",
    "wr = Wrappers()"
   ]
  },
  {
   "cell_type": "markdown",
   "metadata": {},
   "source": [
    "## Create DataFrame"
   ]
  },
  {
   "cell_type": "code",
   "execution_count": 2,
   "metadata": {},
   "outputs": [
    {
     "data": {
      "text/html": [
       "<div>\n",
       "<style scoped>\n",
       "    .dataframe tbody tr th:only-of-type {\n",
       "        vertical-align: middle;\n",
       "    }\n",
       "\n",
       "    .dataframe tbody tr th {\n",
       "        vertical-align: top;\n",
       "    }\n",
       "\n",
       "    .dataframe thead th {\n",
       "        text-align: right;\n",
       "    }\n",
       "</style>\n",
       "<table border=\"1\" class=\"dataframe\">\n",
       "  <thead>\n",
       "    <tr style=\"text-align: right;\">\n",
       "      <th></th>\n",
       "      <th>CRIM</th>\n",
       "      <th>ZN</th>\n",
       "      <th>INDUS</th>\n",
       "      <th>CHAS</th>\n",
       "      <th>NOX</th>\n",
       "      <th>RM</th>\n",
       "      <th>AGE</th>\n",
       "      <th>DIS</th>\n",
       "      <th>RAD</th>\n",
       "      <th>TAX</th>\n",
       "      <th>PTRATIO</th>\n",
       "      <th>B</th>\n",
       "      <th>LSTAT</th>\n",
       "      <th>price</th>\n",
       "    </tr>\n",
       "  </thead>\n",
       "  <tbody>\n",
       "    <tr>\n",
       "      <th>0</th>\n",
       "      <td>0.00632</td>\n",
       "      <td>18.0</td>\n",
       "      <td>2.31</td>\n",
       "      <td>0.0</td>\n",
       "      <td>0.538</td>\n",
       "      <td>6.575</td>\n",
       "      <td>65.2</td>\n",
       "      <td>4.0900</td>\n",
       "      <td>1.0</td>\n",
       "      <td>296.0</td>\n",
       "      <td>15.3</td>\n",
       "      <td>396.90</td>\n",
       "      <td>4.98</td>\n",
       "      <td>24.0</td>\n",
       "    </tr>\n",
       "    <tr>\n",
       "      <th>1</th>\n",
       "      <td>0.02731</td>\n",
       "      <td>0.0</td>\n",
       "      <td>7.07</td>\n",
       "      <td>0.0</td>\n",
       "      <td>0.469</td>\n",
       "      <td>6.421</td>\n",
       "      <td>78.9</td>\n",
       "      <td>4.9671</td>\n",
       "      <td>2.0</td>\n",
       "      <td>242.0</td>\n",
       "      <td>17.8</td>\n",
       "      <td>396.90</td>\n",
       "      <td>9.14</td>\n",
       "      <td>21.6</td>\n",
       "    </tr>\n",
       "    <tr>\n",
       "      <th>2</th>\n",
       "      <td>0.02729</td>\n",
       "      <td>0.0</td>\n",
       "      <td>7.07</td>\n",
       "      <td>0.0</td>\n",
       "      <td>0.469</td>\n",
       "      <td>7.185</td>\n",
       "      <td>61.1</td>\n",
       "      <td>4.9671</td>\n",
       "      <td>2.0</td>\n",
       "      <td>242.0</td>\n",
       "      <td>17.8</td>\n",
       "      <td>392.83</td>\n",
       "      <td>4.03</td>\n",
       "      <td>34.7</td>\n",
       "    </tr>\n",
       "    <tr>\n",
       "      <th>3</th>\n",
       "      <td>0.03237</td>\n",
       "      <td>0.0</td>\n",
       "      <td>2.18</td>\n",
       "      <td>0.0</td>\n",
       "      <td>0.458</td>\n",
       "      <td>6.998</td>\n",
       "      <td>45.8</td>\n",
       "      <td>6.0622</td>\n",
       "      <td>3.0</td>\n",
       "      <td>222.0</td>\n",
       "      <td>18.7</td>\n",
       "      <td>394.63</td>\n",
       "      <td>2.94</td>\n",
       "      <td>33.4</td>\n",
       "    </tr>\n",
       "    <tr>\n",
       "      <th>4</th>\n",
       "      <td>0.06905</td>\n",
       "      <td>0.0</td>\n",
       "      <td>2.18</td>\n",
       "      <td>0.0</td>\n",
       "      <td>0.458</td>\n",
       "      <td>7.147</td>\n",
       "      <td>54.2</td>\n",
       "      <td>6.0622</td>\n",
       "      <td>3.0</td>\n",
       "      <td>222.0</td>\n",
       "      <td>18.7</td>\n",
       "      <td>396.90</td>\n",
       "      <td>5.33</td>\n",
       "      <td>36.2</td>\n",
       "    </tr>\n",
       "  </tbody>\n",
       "</table>\n",
       "</div>"
      ],
      "text/plain": [
       "      CRIM    ZN  INDUS  CHAS    NOX     RM   AGE     DIS  RAD    TAX  \\\n",
       "0  0.00632  18.0   2.31   0.0  0.538  6.575  65.2  4.0900  1.0  296.0   \n",
       "1  0.02731   0.0   7.07   0.0  0.469  6.421  78.9  4.9671  2.0  242.0   \n",
       "2  0.02729   0.0   7.07   0.0  0.469  7.185  61.1  4.9671  2.0  242.0   \n",
       "3  0.03237   0.0   2.18   0.0  0.458  6.998  45.8  6.0622  3.0  222.0   \n",
       "4  0.06905   0.0   2.18   0.0  0.458  7.147  54.2  6.0622  3.0  222.0   \n",
       "\n",
       "   PTRATIO       B  LSTAT  price  \n",
       "0     15.3  396.90   4.98   24.0  \n",
       "1     17.8  396.90   9.14   21.6  \n",
       "2     17.8  392.83   4.03   34.7  \n",
       "3     18.7  394.63   2.94   33.4  \n",
       "4     18.7  396.90   5.33   36.2  "
      ]
     },
     "execution_count": 2,
     "metadata": {},
     "output_type": "execute_result"
    }
   ],
   "source": [
    "df = pd.DataFrame(load_boston()['data'])\n",
    "df.columns = list(load_boston()['feature_names'])\n",
    "df['price'] = load_boston()['target']\n",
    "df.head()"
   ]
  },
  {
   "cell_type": "markdown",
   "metadata": {},
   "source": [
    "## Standard scaling data for better results"
   ]
  },
  {
   "cell_type": "code",
   "execution_count": 3,
   "metadata": {},
   "outputs": [
    {
     "data": {
      "text/html": [
       "<div>\n",
       "<style scoped>\n",
       "    .dataframe tbody tr th:only-of-type {\n",
       "        vertical-align: middle;\n",
       "    }\n",
       "\n",
       "    .dataframe tbody tr th {\n",
       "        vertical-align: top;\n",
       "    }\n",
       "\n",
       "    .dataframe thead th {\n",
       "        text-align: right;\n",
       "    }\n",
       "</style>\n",
       "<table border=\"1\" class=\"dataframe\">\n",
       "  <thead>\n",
       "    <tr style=\"text-align: right;\">\n",
       "      <th></th>\n",
       "      <th>0</th>\n",
       "      <th>1</th>\n",
       "      <th>2</th>\n",
       "      <th>3</th>\n",
       "      <th>4</th>\n",
       "      <th>5</th>\n",
       "      <th>6</th>\n",
       "      <th>7</th>\n",
       "      <th>8</th>\n",
       "      <th>9</th>\n",
       "      <th>10</th>\n",
       "      <th>11</th>\n",
       "      <th>12</th>\n",
       "      <th>price</th>\n",
       "    </tr>\n",
       "  </thead>\n",
       "  <tbody>\n",
       "    <tr>\n",
       "      <th>0</th>\n",
       "      <td>-0.419782</td>\n",
       "      <td>0.284830</td>\n",
       "      <td>-1.287909</td>\n",
       "      <td>-0.272599</td>\n",
       "      <td>-0.144217</td>\n",
       "      <td>0.413672</td>\n",
       "      <td>-0.120013</td>\n",
       "      <td>0.140214</td>\n",
       "      <td>-0.982843</td>\n",
       "      <td>-0.666608</td>\n",
       "      <td>-1.459000</td>\n",
       "      <td>0.441052</td>\n",
       "      <td>-1.075562</td>\n",
       "      <td>24.0</td>\n",
       "    </tr>\n",
       "    <tr>\n",
       "      <th>1</th>\n",
       "      <td>-0.417339</td>\n",
       "      <td>-0.487722</td>\n",
       "      <td>-0.593381</td>\n",
       "      <td>-0.272599</td>\n",
       "      <td>-0.740262</td>\n",
       "      <td>0.194274</td>\n",
       "      <td>0.367166</td>\n",
       "      <td>0.557160</td>\n",
       "      <td>-0.867883</td>\n",
       "      <td>-0.987329</td>\n",
       "      <td>-0.303094</td>\n",
       "      <td>0.441052</td>\n",
       "      <td>-0.492439</td>\n",
       "      <td>21.6</td>\n",
       "    </tr>\n",
       "    <tr>\n",
       "      <th>2</th>\n",
       "      <td>-0.417342</td>\n",
       "      <td>-0.487722</td>\n",
       "      <td>-0.593381</td>\n",
       "      <td>-0.272599</td>\n",
       "      <td>-0.740262</td>\n",
       "      <td>1.282714</td>\n",
       "      <td>-0.265812</td>\n",
       "      <td>0.557160</td>\n",
       "      <td>-0.867883</td>\n",
       "      <td>-0.987329</td>\n",
       "      <td>-0.303094</td>\n",
       "      <td>0.396427</td>\n",
       "      <td>-1.208727</td>\n",
       "      <td>34.7</td>\n",
       "    </tr>\n",
       "    <tr>\n",
       "      <th>3</th>\n",
       "      <td>-0.416750</td>\n",
       "      <td>-0.487722</td>\n",
       "      <td>-1.306878</td>\n",
       "      <td>-0.272599</td>\n",
       "      <td>-0.835284</td>\n",
       "      <td>1.016303</td>\n",
       "      <td>-0.809889</td>\n",
       "      <td>1.077737</td>\n",
       "      <td>-0.752922</td>\n",
       "      <td>-1.106115</td>\n",
       "      <td>0.113032</td>\n",
       "      <td>0.416163</td>\n",
       "      <td>-1.361517</td>\n",
       "      <td>33.4</td>\n",
       "    </tr>\n",
       "    <tr>\n",
       "      <th>4</th>\n",
       "      <td>-0.412482</td>\n",
       "      <td>-0.487722</td>\n",
       "      <td>-1.306878</td>\n",
       "      <td>-0.272599</td>\n",
       "      <td>-0.835284</td>\n",
       "      <td>1.228577</td>\n",
       "      <td>-0.511180</td>\n",
       "      <td>1.077737</td>\n",
       "      <td>-0.752922</td>\n",
       "      <td>-1.106115</td>\n",
       "      <td>0.113032</td>\n",
       "      <td>0.441052</td>\n",
       "      <td>-1.026501</td>\n",
       "      <td>36.2</td>\n",
       "    </tr>\n",
       "  </tbody>\n",
       "</table>\n",
       "</div>"
      ],
      "text/plain": [
       "          0         1         2         3         4         5         6  \\\n",
       "0 -0.419782  0.284830 -1.287909 -0.272599 -0.144217  0.413672 -0.120013   \n",
       "1 -0.417339 -0.487722 -0.593381 -0.272599 -0.740262  0.194274  0.367166   \n",
       "2 -0.417342 -0.487722 -0.593381 -0.272599 -0.740262  1.282714 -0.265812   \n",
       "3 -0.416750 -0.487722 -1.306878 -0.272599 -0.835284  1.016303 -0.809889   \n",
       "4 -0.412482 -0.487722 -1.306878 -0.272599 -0.835284  1.228577 -0.511180   \n",
       "\n",
       "          7         8         9        10        11        12  price  \n",
       "0  0.140214 -0.982843 -0.666608 -1.459000  0.441052 -1.075562   24.0  \n",
       "1  0.557160 -0.867883 -0.987329 -0.303094  0.441052 -0.492439   21.6  \n",
       "2  0.557160 -0.867883 -0.987329 -0.303094  0.396427 -1.208727   34.7  \n",
       "3  1.077737 -0.752922 -1.106115  0.113032  0.416163 -1.361517   33.4  \n",
       "4  1.077737 -0.752922 -1.106115  0.113032  0.441052 -1.026501   36.2  "
      ]
     },
     "execution_count": 3,
     "metadata": {},
     "output_type": "execute_result"
    }
   ],
   "source": [
    "df2 = dh.ScaleData('standard', df.drop(['price'], axis='columns'))\n",
    "df2['price'] = df['price']\n",
    "df2.head()"
   ]
  },
  {
   "cell_type": "markdown",
   "metadata": {},
   "source": [
    "## Creating train and validation sets"
   ]
  },
  {
   "cell_type": "code",
   "execution_count": 4,
   "metadata": {},
   "outputs": [],
   "source": [
    "train, test = dh.HoldOut(df2) # using HoldOut function\n",
    "X = train.drop(['price'], axis='columns')\n",
    "Xval = test.drop(['price'], axis='columns')\n",
    "y = train['price']\n",
    "yval = test['price']"
   ]
  },
  {
   "cell_type": "markdown",
   "metadata": {},
   "source": [
    "## Using CompareModels function to pick the best model"
   ]
  },
  {
   "cell_type": "code",
   "execution_count": 5,
   "metadata": {},
   "outputs": [
    {
     "data": {
      "text/html": [
       "<div>\n",
       "<style scoped>\n",
       "    .dataframe tbody tr th:only-of-type {\n",
       "        vertical-align: middle;\n",
       "    }\n",
       "\n",
       "    .dataframe tbody tr th {\n",
       "        vertical-align: top;\n",
       "    }\n",
       "\n",
       "    .dataframe thead th {\n",
       "        text-align: right;\n",
       "    }\n",
       "</style>\n",
       "<table border=\"1\" class=\"dataframe\">\n",
       "  <thead>\n",
       "    <tr style=\"text-align: right;\">\n",
       "      <th></th>\n",
       "      <th>Model</th>\n",
       "      <th>train_acc</th>\n",
       "      <th>test_acc</th>\n",
       "    </tr>\n",
       "  </thead>\n",
       "  <tbody>\n",
       "    <tr>\n",
       "      <th>0</th>\n",
       "      <td>Lin</td>\n",
       "      <td>0.777797</td>\n",
       "      <td>0.675678</td>\n",
       "    </tr>\n",
       "    <tr>\n",
       "      <th>1</th>\n",
       "      <td>KNN</td>\n",
       "      <td>0.829683</td>\n",
       "      <td>0.722897</td>\n",
       "    </tr>\n",
       "    <tr>\n",
       "      <th>2</th>\n",
       "      <td>DT</td>\n",
       "      <td>1.000000</td>\n",
       "      <td>0.617578</td>\n",
       "    </tr>\n",
       "    <tr>\n",
       "      <th>3</th>\n",
       "      <td>RF</td>\n",
       "      <td>0.980015</td>\n",
       "      <td>0.731333</td>\n",
       "    </tr>\n",
       "    <tr>\n",
       "      <th>4</th>\n",
       "      <td>AB</td>\n",
       "      <td>0.919079</td>\n",
       "      <td>0.742624</td>\n",
       "    </tr>\n",
       "    <tr>\n",
       "      <th>5</th>\n",
       "      <td>GB</td>\n",
       "      <td>0.982691</td>\n",
       "      <td>0.802530</td>\n",
       "    </tr>\n",
       "    <tr>\n",
       "      <th>6</th>\n",
       "      <td>XGB</td>\n",
       "      <td>0.999998</td>\n",
       "      <td>0.775410</td>\n",
       "    </tr>\n",
       "    <tr>\n",
       "      <th>7</th>\n",
       "      <td>SVM</td>\n",
       "      <td>0.655584</td>\n",
       "      <td>0.583854</td>\n",
       "    </tr>\n",
       "  </tbody>\n",
       "</table>\n",
       "</div>"
      ],
      "text/plain": [
       "  Model  train_acc  test_acc\n",
       "0   Lin   0.777797  0.675678\n",
       "1   KNN   0.829683  0.722897\n",
       "2    DT   1.000000  0.617578\n",
       "3    RF   0.980015  0.731333\n",
       "4    AB   0.919079  0.742624\n",
       "5    GB   0.982691  0.802530\n",
       "6   XGB   0.999998  0.775410\n",
       "7   SVM   0.655584  0.583854"
      ]
     },
     "execution_count": 5,
     "metadata": {},
     "output_type": "execute_result"
    }
   ],
   "source": [
    "ml.CompareModels(X, y, 'regression')"
   ]
  },
  {
   "cell_type": "markdown",
   "metadata": {},
   "source": [
    "## Time to Optimize a model!!"
   ]
  },
  {
   "cell_type": "markdown",
   "metadata": {},
   "source": [
    "Let's go with XGB, XGBRegressor :)"
   ]
  },
  {
   "cell_type": "code",
   "execution_count": 6,
   "metadata": {},
   "outputs": [
    {
     "name": "stdout",
     "output_type": "stream",
     "text": [
      "Fitting 3 folds for each of 99 candidates, totalling 297 fits\n"
     ]
    },
    {
     "name": "stderr",
     "output_type": "stream",
     "text": [
      "[Parallel(n_jobs=-1)]: Using backend LokyBackend with 12 concurrent workers.\n",
      "[Parallel(n_jobs=-1)]: Done  17 tasks      | elapsed:    3.5s\n"
     ]
    },
    {
     "name": "stdout",
     "output_type": "stream",
     "text": [
      "Fitting 3 folds for each of 99 candidates, totalling 297 fits\n"
     ]
    },
    {
     "name": "stderr",
     "output_type": "stream",
     "text": [
      "[Parallel(n_jobs=-1)]: Using backend LokyBackend with 12 concurrent workers.\n",
      "[Parallel(n_jobs=-1)]: Done  17 tasks      | elapsed:    3.9s\n",
      "[Parallel(n_jobs=-1)]: Done 138 tasks      | elapsed:    5.1s\n",
      "[Parallel(n_jobs=-1)]: Done 274 out of 297 | elapsed:    6.6s remaining:    0.5s\n",
      "[Parallel(n_jobs=-1)]: Done 297 out of 297 | elapsed:    6.8s finished\n"
     ]
    },
    {
     "name": "stdout",
     "output_type": "stream",
     "text": [
      "[17:08:56] WARNING: C:/Users/Administrator/workspace/xgboost-win64_release_1.3.0/src/learner.cc:541: \n",
      "Parameters: { criterion } might not be used.\n",
      "\n",
      "  This may not be accurate due to some parameters are only used in language bindings but\n",
      "  passed down to XGBoost core.  Or some parameters are not used but slip through this\n",
      "  verification. Please open an issue if you find above cases.\n",
      "\n",
      "\n"
     ]
    }
   ],
   "source": [
    "from sklearn.ensemble import GradientBoostingRegressor\n",
    "from xgboost import XGBRegressor\n",
    "\n",
    "estimators = al.Estimators(X, 50) #returns a list of n_estimators for the gridsearch\n",
    "grid = {'learning_rate': [0.1, 0.5, 1], 'n_estimators': estimators, 'criterion': ['friedman_mse', 'mse', 'mae']}\n",
    "reg = ml.Optimize(XGBRegressor(), grid, X, y)"
   ]
  },
  {
   "cell_type": "code",
   "execution_count": 7,
   "metadata": {},
   "outputs": [
    {
     "data": {
      "text/plain": [
       "[50, 4, 8, 12, 16, 20, 24, 28, 32, 36, 40]"
      ]
     },
     "execution_count": 7,
     "metadata": {},
     "output_type": "execute_result"
    }
   ],
   "source": [
    "# our n_estimators in case you're curious\n",
    "estimators"
   ]
  },
  {
   "cell_type": "markdown",
   "metadata": {},
   "source": [
    "## Evaluation"
   ]
  },
  {
   "cell_type": "code",
   "execution_count": 8,
   "metadata": {},
   "outputs": [
    {
     "name": "stdout",
     "output_type": "stream",
     "text": [
      "[17:09:18] WARNING: C:/Users/Administrator/workspace/xgboost-win64_release_1.3.0/src/learner.cc:541: \n",
      "Parameters: { criterion } might not be used.\n",
      "\n",
      "  This may not be accurate due to some parameters are only used in language bindings but\n",
      "  passed down to XGBoost core.  Or some parameters are not used but slip through this\n",
      "  verification. Please open an issue if you find above cases.\n",
      "\n",
      "\n"
     ]
    },
    {
     "data": {
      "text/plain": [
       "(    predicted  actual     error     %error\n",
       " 0   29.071417    31.6  2.528583   8.001845\n",
       " 1   20.780781    22.4  1.619219   7.228657\n",
       " 2   19.669271    22.5  2.830729  12.581016\n",
       " 3   22.909016    22.8  0.109016   0.995241\n",
       " 4   24.614794    25.2  0.585206   2.322247\n",
       " 5   42.472900    39.8  2.672900   0.937068\n",
       " 6   20.488113    20.6  0.111887   0.543139\n",
       " 7   17.365139    16.1  1.265139   0.927145\n",
       " 8   27.598541    31.5  3.901459  12.385583\n",
       " 9   17.700581    23.7  5.999419  25.314006\n",
       " 10  11.042952    13.4  2.357048  17.589914\n",
       " 11  14.093417    13.5  0.593417   0.957894\n",
       " 12  20.199444    19.4  0.799444   0.960422\n",
       " 13  33.535133    33.4  0.135133   0.995970\n",
       " 14  19.969429    23.2  3.230571  13.924875\n",
       " 15  33.816280    35.4  1.583720   4.473784\n",
       " 16  21.942820    21.6  0.342820   0.984377\n",
       " 17  17.274258    20.0  2.725742  13.628712\n",
       " 18  41.299736    50.0  8.700264  17.400528\n",
       " 19  18.862793    18.8  0.062793   0.996671\n",
       " 20  19.981598    20.4  0.418402   2.050991\n",
       " 21  20.583384    22.2  1.616616   7.282056\n",
       " 22  21.148268    19.3  1.848268   0.912604\n",
       " 23  22.932470    24.5  1.567530   6.398080\n",
       " 24  17.558102    20.0  2.441898  12.209492\n",
       " 25  18.520046    17.5  1.020046   0.944922\n",
       " 26  22.443783    21.4  1.043783   0.953493\n",
       " 27  18.168598    17.8  0.368598   0.979712\n",
       " 28  22.229567    19.8  2.429567   0.890706\n",
       " 29  15.476667    15.6  0.123333   0.790594\n",
       " 30  17.447733    20.2  2.752267  13.625085\n",
       " 31  23.492323    23.1  0.392323   0.983300\n",
       " 32  28.351820    32.5  4.148180  12.763631\n",
       " 33  31.388905    34.7  3.311095   9.542062\n",
       " 34  21.656036    22.9  1.243964   5.432156\n",
       " 35  20.835197    17.4  3.435197   0.835125\n",
       " 36  31.002960    30.1  0.902960   0.970875\n",
       " 37  32.351929    33.0  0.648071   1.963852\n",
       " 38  33.510628    33.1  0.410628   0.987746\n",
       " 39  20.030954    19.5  0.530954   0.973493\n",
       " 40  20.086123    18.8  1.286123   0.935970\n",
       " 41  31.768833    31.6  0.168833   0.994686\n",
       " 42  19.057577    16.0  3.057577   0.839561\n",
       " 43  20.340303    21.4  1.059697   4.951853\n",
       " 44  20.769932    19.6  1.169932   0.943672\n",
       " 45  43.411499    46.7  3.288501   7.041758\n",
       " 46  19.600817    23.1  3.499183  15.147980\n",
       " 47  32.002968    29.6  2.402968   0.924914\n",
       " 48   8.952563     5.6  3.352563   0.625519\n",
       " 49  13.855204    13.3  0.555204   0.959928\n",
       " 50  18.417330    17.1  1.317330   0.928473,\n",
       " 6.068465065163799,\n",
       " 91.29)"
      ]
     },
     "execution_count": 8,
     "metadata": {},
     "output_type": "execute_result"
    }
   ],
   "source": [
    "ev.EvaluateRegressor(reg, X, Xval, y, yval)"
   ]
  },
  {
   "cell_type": "markdown",
   "metadata": {},
   "source": [
    "RMSE is 6.07, accuracy is 91.29% !"
   ]
  },
  {
   "cell_type": "markdown",
   "metadata": {},
   "source": [
    "This performance is good but let's use VifIt to check for multicolinearity."
   ]
  },
  {
   "cell_type": "code",
   "execution_count": 9,
   "metadata": {},
   "outputs": [
    {
     "data": {
      "text/plain": [
       "0     1.781944\n",
       "1     2.441874\n",
       "2     4.321181\n",
       "3     1.093526\n",
       "4     4.428240\n",
       "5     2.016564\n",
       "6     3.436539\n",
       "7     4.104558\n",
       "8     7.641019\n",
       "9     9.583625\n",
       "10    1.816788\n",
       "11    1.360511\n",
       "12    3.132705\n",
       "dtype: float64"
      ]
     },
     "execution_count": 9,
     "metadata": {},
     "output_type": "execute_result"
    }
   ],
   "source": [
    "dh.VifIt(X)"
   ]
  },
  {
   "cell_type": "markdown",
   "metadata": {},
   "source": [
    "## We may do better without 'RAD' and 'Tax'"
   ]
  },
  {
   "cell_type": "code",
   "execution_count": 10,
   "metadata": {},
   "outputs": [
    {
     "data": {
      "image/png": "[encoded data removed]",
      "text/plain": [
       "<Figure size 432x288 with 1 Axes>"
      ]
     },
     "metadata": {
      "needs_background": "light"
     },
     "output_type": "display_data"
    }
   ],
   "source": [
    "import seaborn as sns\n",
    "from matplotlib import pyplot as plt\n",
    "\n",
    "sns.barplot(list(load_boston()['feature_names']), list(dh.VifIt(X)))\n",
    "plt.xlabel('feature')   \n",
    "plt.ylabel('Vif Score')\n",
    "plt.show()"
   ]
  },
  {
   "cell_type": "markdown",
   "metadata": {},
   "source": [
    "## Deep Learning approach"
   ]
  },
  {
   "cell_type": "markdown",
   "metadata": {},
   "source": [
    "X and y will be changed because deep learning models take in np.arrays rather than dataframes"
   ]
  },
  {
   "cell_type": "code",
   "execution_count": 11,
   "metadata": {},
   "outputs": [],
   "source": [
    "import numpy as np\n",
    "\n",
    "X2 = np.array(X)\n",
    "Xv2 = np.array(Xval)\n",
    "y2 = np.array(y)\n",
    "yv2 = np.array(yval)"
   ]
  },
  {
   "cell_type": "markdown",
   "metadata": {},
   "source": [
    "The following can also be done with DeepLearning().FastNN(), just be sure to set task to 'regression' and output_dim to 1"
   ]
  },
  {
   "cell_type": "code",
   "execution_count": 12,
   "metadata": {},
   "outputs": [],
   "source": [
    "nodes = 64 #first layer will have 64 nodes\n",
    "activation = 'relu'\n",
    "regularizer = 'L1' #used to prevent overfitting in neural networks\n",
    "stacking = True #our second layer will also have 64 nodes\n",
    "dropout = False # another solution to overfitting\n",
    "nlayers = 4 #the neural network will have 4 layers\n",
    "closer = False\n",
    "loss = 'mae' #we will use Mean Absolute Error loss function\n",
    "optimizer = 'rmsprop' #we will use Root Mean Squared Backpropagation for out optimization function\n",
    "y_col = 'price' #this parameter isn't actually used but CollectPreformance needs functions to take in 10 arguments\n",
    "model = dl.DeepTabularRegression(nodes, activation, regularizer, stacking, dropout, nlayers, closer, loss, optimizer, y_col)"
   ]
  },
  {
   "cell_type": "code",
   "execution_count": 13,
   "metadata": {},
   "outputs": [
    {
     "name": "stdout",
     "output_type": "stream",
     "text": [
      "Epoch 1/75\n",
      "12/12 [==============================] - 1s 76ms/step - loss: 21.2867 - val_loss: 18.4954\n",
      "Epoch 2/75\n",
      "12/12 [==============================] - 0s 4ms/step - loss: 16.6019 - val_loss: 12.4922\n",
      "Epoch 3/75\n",
      "12/12 [==============================] - 0s 3ms/step - loss: 10.0749 - val_loss: 6.8911\n",
      "Epoch 4/75\n",
      "12/12 [==============================] - 0s 4ms/step - loss: 5.4939 - val_loss: 5.9222\n",
      "Epoch 5/75\n",
      "12/12 [==============================] - 0s 3ms/step - loss: 4.8130 - val_loss: 4.9520\n",
      "Epoch 6/75\n",
      "12/12 [==============================] - 0s 4ms/step - loss: 3.9128 - val_loss: 5.1229\n",
      "Epoch 7/75\n",
      "12/12 [==============================] - 0s 3ms/step - loss: 4.0562 - val_loss: 4.6017\n",
      "Epoch 8/75\n",
      "12/12 [==============================] - 0s 4ms/step - loss: 3.4994 - val_loss: 4.0382\n",
      "Epoch 9/75\n",
      "12/12 [==============================] - 0s 3ms/step - loss: 3.4285 - val_loss: 3.9997\n",
      "Epoch 10/75\n",
      "12/12 [==============================] - 0s 4ms/step - loss: 3.3132 - val_loss: 3.8678\n",
      "Epoch 11/75\n",
      "12/12 [==============================] - 0s 4ms/step - loss: 3.2473 - val_loss: 3.6965\n",
      "Epoch 12/75\n",
      "12/12 [==============================] - 0s 4ms/step - loss: 3.3530 - val_loss: 3.9514\n",
      "Epoch 13/75\n",
      "12/12 [==============================] - 0s 4ms/step - loss: 3.2559 - val_loss: 3.5341\n",
      "Epoch 14/75\n",
      "12/12 [==============================] - 0s 4ms/step - loss: 3.0404 - val_loss: 3.4612\n",
      "Epoch 15/75\n",
      "12/12 [==============================] - 0s 4ms/step - loss: 3.1314 - val_loss: 4.0177\n",
      "Epoch 16/75\n",
      "12/12 [==============================] - 0s 3ms/step - loss: 2.9449 - val_loss: 3.6066\n",
      "Epoch 17/75\n",
      "12/12 [==============================] - 0s 4ms/step - loss: 3.0927 - val_loss: 3.3731\n",
      "Epoch 18/75\n",
      "12/12 [==============================] - 0s 4ms/step - loss: 2.7865 - val_loss: 3.6662\n",
      "Epoch 19/75\n",
      "12/12 [==============================] - 0s 4ms/step - loss: 2.6154 - val_loss: 3.8128\n",
      "Epoch 20/75\n",
      "12/12 [==============================] - 0s 3ms/step - loss: 2.8841 - val_loss: 3.8121\n",
      "Epoch 21/75\n",
      "12/12 [==============================] - 0s 3ms/step - loss: 2.8796 - val_loss: 3.1662\n",
      "Epoch 22/75\n",
      "12/12 [==============================] - 0s 3ms/step - loss: 2.7232 - val_loss: 3.0499\n",
      "Epoch 23/75\n",
      "12/12 [==============================] - 0s 4ms/step - loss: 2.5521 - val_loss: 3.0962\n",
      "Epoch 24/75\n",
      "12/12 [==============================] - 0s 4ms/step - loss: 2.7817 - val_loss: 3.1127\n",
      "Epoch 25/75\n",
      "12/12 [==============================] - 0s 3ms/step - loss: 2.6684 - val_loss: 3.0513\n",
      "Epoch 26/75\n",
      "12/12 [==============================] - 0s 3ms/step - loss: 2.7448 - val_loss: 3.1680\n",
      "Epoch 27/75\n",
      "12/12 [==============================] - 0s 3ms/step - loss: 2.6880 - val_loss: 3.1018\n",
      "Epoch 28/75\n",
      "12/12 [==============================] - 0s 3ms/step - loss: 2.6803 - val_loss: 3.0550\n",
      "Epoch 29/75\n",
      "12/12 [==============================] - 0s 3ms/step - loss: 2.7459 - val_loss: 3.0728\n",
      "Epoch 30/75\n",
      "12/12 [==============================] - 0s 4ms/step - loss: 2.7086 - val_loss: 3.0255\n",
      "Epoch 31/75\n",
      "12/12 [==============================] - 0s 4ms/step - loss: 2.7535 - val_loss: 3.5336\n",
      "Epoch 32/75\n",
      "12/12 [==============================] - 0s 3ms/step - loss: 2.7030 - val_loss: 3.3870\n",
      "Epoch 33/75\n",
      "12/12 [==============================] - 0s 3ms/step - loss: 2.6340 - val_loss: 3.3173\n",
      "Epoch 34/75\n",
      "12/12 [==============================] - 0s 4ms/step - loss: 2.6989 - val_loss: 2.9399\n",
      "Epoch 35/75\n",
      "12/12 [==============================] - 0s 4ms/step - loss: 2.3145 - val_loss: 3.8544\n",
      "Epoch 36/75\n",
      "12/12 [==============================] - 0s 4ms/step - loss: 2.5470 - val_loss: 3.0682\n",
      "Epoch 37/75\n",
      "12/12 [==============================] - 0s 4ms/step - loss: 2.4510 - val_loss: 2.8636\n",
      "Epoch 38/75\n",
      "12/12 [==============================] - 0s 4ms/step - loss: 2.4838 - val_loss: 3.1001\n",
      "Epoch 39/75\n",
      "12/12 [==============================] - 0s 4ms/step - loss: 2.4161 - val_loss: 2.9978\n",
      "Epoch 40/75\n",
      "12/12 [==============================] - 0s 3ms/step - loss: 2.3671 - val_loss: 2.9847\n",
      "Epoch 41/75\n",
      "12/12 [==============================] - 0s 4ms/step - loss: 2.4239 - val_loss: 2.8768\n",
      "Epoch 42/75\n",
      "12/12 [==============================] - 0s 4ms/step - loss: 2.6308 - val_loss: 2.9451\n",
      "Epoch 43/75\n",
      "12/12 [==============================] - 0s 4ms/step - loss: 2.5519 - val_loss: 2.8402\n",
      "Epoch 44/75\n",
      "12/12 [==============================] - 0s 4ms/step - loss: 2.4567 - val_loss: 2.7608\n",
      "Epoch 45/75\n",
      "12/12 [==============================] - 0s 4ms/step - loss: 2.3125 - val_loss: 2.7737\n",
      "Epoch 46/75\n",
      "12/12 [==============================] - 0s 3ms/step - loss: 2.4030 - val_loss: 3.1348\n",
      "Epoch 47/75\n",
      "12/12 [==============================] - 0s 4ms/step - loss: 2.3443 - val_loss: 2.9687\n",
      "Epoch 48/75\n",
      "12/12 [==============================] - 0s 4ms/step - loss: 2.4679 - val_loss: 3.0917\n",
      "Epoch 49/75\n",
      "12/12 [==============================] - 0s 4ms/step - loss: 2.6737 - val_loss: 3.2046\n",
      "Epoch 50/75\n",
      "12/12 [==============================] - 0s 4ms/step - loss: 2.3981 - val_loss: 2.7423\n",
      "Epoch 51/75\n",
      "12/12 [==============================] - 0s 4ms/step - loss: 2.3385 - val_loss: 3.1044\n",
      "Epoch 52/75\n",
      "12/12 [==============================] - 0s 4ms/step - loss: 2.4973 - val_loss: 2.7305\n",
      "Epoch 53/75\n",
      "12/12 [==============================] - 0s 4ms/step - loss: 2.3269 - val_loss: 3.2464\n",
      "Epoch 54/75\n",
      "12/12 [==============================] - 0s 4ms/step - loss: 2.7457 - val_loss: 2.8091\n",
      "Epoch 55/75\n",
      "12/12 [==============================] - 0s 4ms/step - loss: 2.2135 - val_loss: 2.7069\n",
      "Epoch 56/75\n",
      "12/12 [==============================] - 0s 4ms/step - loss: 2.3567 - val_loss: 2.7234\n",
      "Epoch 57/75\n",
      "12/12 [==============================] - 0s 3ms/step - loss: 2.2949 - val_loss: 3.7471\n",
      "Epoch 58/75\n",
      "12/12 [==============================] - 0s 4ms/step - loss: 2.3196 - val_loss: 3.2167\n",
      "Epoch 59/75\n",
      "12/12 [==============================] - 0s 4ms/step - loss: 2.3836 - val_loss: 3.0977\n",
      "Epoch 60/75\n",
      "12/12 [==============================] - 0s 3ms/step - loss: 2.1956 - val_loss: 2.8659\n",
      "Epoch 61/75\n",
      "12/12 [==============================] - 0s 4ms/step - loss: 2.2996 - val_loss: 3.0341\n",
      "Epoch 62/75\n",
      "12/12 [==============================] - 0s 4ms/step - loss: 2.3761 - val_loss: 2.7663\n",
      "Epoch 63/75\n",
      "12/12 [==============================] - 0s 4ms/step - loss: 2.3077 - val_loss: 2.8739\n",
      "Epoch 64/75\n",
      "12/12 [==============================] - 0s 4ms/step - loss: 2.2157 - val_loss: 2.7369\n",
      "Epoch 65/75\n",
      "12/12 [==============================] - 0s 4ms/step - loss: 2.1141 - val_loss: 2.5996\n",
      "Epoch 66/75\n",
      "12/12 [==============================] - 0s 3ms/step - loss: 2.2427 - val_loss: 2.6942\n",
      "Epoch 67/75\n",
      "12/12 [==============================] - 0s 4ms/step - loss: 2.1035 - val_loss: 2.5642\n",
      "Epoch 68/75\n",
      "12/12 [==============================] - 0s 3ms/step - loss: 2.1581 - val_loss: 2.7539\n",
      "Epoch 69/75\n",
      "12/12 [==============================] - 0s 4ms/step - loss: 2.1737 - val_loss: 2.9672\n",
      "Epoch 70/75\n",
      "12/12 [==============================] - 0s 4ms/step - loss: 2.3739 - val_loss: 2.7598\n",
      "Epoch 71/75\n",
      "12/12 [==============================] - 0s 3ms/step - loss: 2.2383 - val_loss: 3.0475\n",
      "Epoch 72/75\n",
      "12/12 [==============================] - 0s 3ms/step - loss: 2.3305 - val_loss: 2.6632\n",
      "Epoch 73/75\n",
      "12/12 [==============================] - 0s 3ms/step - loss: 2.1436 - val_loss: 3.4683\n",
      "Epoch 74/75\n",
      "12/12 [==============================] - 0s 4ms/step - loss: 2.2567 - val_loss: 2.5820\n",
      "Epoch 75/75\n",
      "12/12 [==============================] - 0s 3ms/step - loss: 2.1514 - val_loss: 2.6915\n"
     ]
    }
   ],
   "source": [
    "history = model.fit(X, y, batch_size=32, epochs=75, validation_split=0.2)"
   ]
  },
  {
   "cell_type": "code",
   "execution_count": 14,
   "metadata": {},
   "outputs": [
    {
     "name": "stdout",
     "output_type": "stream",
     "text": [
      "Model: \"sequential\"\n",
      "_________________________________________________________________\n",
      "Layer (type)                 Output Shape              Param #   \n",
      "=================================================================\n",
      "dense (Dense)                (None, 64)                896       \n",
      "_________________________________________________________________\n",
      "dense_1 (Dense)              (None, 64)                4160      \n",
      "_________________________________________________________________\n",
      "dense_2 (Dense)              (None, 32)                2080      \n",
      "_________________________________________________________________\n",
      "dense_3 (Dense)              (None, 16)                528       \n",
      "_________________________________________________________________\n",
      "dense_4 (Dense)              (None, 1)                 17        \n",
      "=================================================================\n",
      "Total params: 7,681\n",
      "Trainable params: 7,681\n",
      "Non-trainable params: 0\n",
      "_________________________________________________________________\n"
     ]
    }
   ],
   "source": [
    "model.summary()"
   ]
  },
  {
   "cell_type": "code",
   "execution_count": 15,
   "metadata": {
    "scrolled": true
   },
   "outputs": [
    {
     "data": {
      "image/png": "[encoded data removed]",
      "text/plain": [
       "<Figure size 432x288 with 1 Axes>"
      ]
     },
     "metadata": {
      "needs_background": "light"
     },
     "output_type": "display_data"
    }
   ],
   "source": [
    "ev.ViewLoss(history)"
   ]
  },
  {
   "cell_type": "markdown",
   "metadata": {},
   "source": [
    "## Now for a fast and dirty approach with Wrapper().WrapML()"
   ]
  },
  {
   "cell_type": "code",
   "execution_count": 16,
   "metadata": {},
   "outputs": [
    {
     "name": "stdout",
     "output_type": "stream",
     "text": [
      "XGBRegressor(base_score=None, booster=None, colsample_bylevel=None,\n",
      "             colsample_bynode=None, colsample_bytree=None, gamma=None,\n",
      "             gpu_id=None, importance_type='gain', interaction_constraints=None,\n",
      "             learning_rate=None, max_delta_step=None, max_depth=None,\n",
      "             min_child_weight=None, missing=nan, monotone_constraints=None,\n",
      "             n_estimators=100, n_jobs=None, num_parallel_tree=None,\n",
      "             random_state=None, reg_alpha=None, reg_lambda=None,\n",
      "             scale_pos_weight=None, subsample=None, tree_method=None,\n",
      "             validate_parameters=None, verbosity=None)\n",
      "Raw Vanilla\n",
      "RMSE = 18.826457457594064, Accuracy = 80.9%\n",
      "Fitting 3 folds for each of 396 candidates, totalling 1188 fits\n"
     ]
    },
    {
     "name": "stderr",
     "output_type": "stream",
     "text": [
      "[Parallel(n_jobs=-1)]: Using backend LokyBackend with 12 concurrent workers.\n",
      "[Parallel(n_jobs=-1)]: Done  19 tasks      | elapsed:    0.1s\n"
     ]
    },
    {
     "name": "stdout",
     "output_type": "stream",
     "text": [
      "Fitting 3 folds for each of 396 candidates, totalling 1188 fits\n"
     ]
    },
    {
     "name": "stderr",
     "output_type": "stream",
     "text": [
      "[Parallel(n_jobs=-1)]: Using backend LokyBackend with 12 concurrent workers.\n",
      "[Parallel(n_jobs=-1)]: Done  17 tasks      | elapsed:    3.8s\n",
      "[Parallel(n_jobs=-1)]: Done 192 tasks      | elapsed:    5.2s\n",
      "[Parallel(n_jobs=-1)]: Done 598 tasks      | elapsed:   10.0s\n",
      "[Parallel(n_jobs=-1)]: Done 1188 out of 1188 | elapsed:   16.8s finished\n"
     ]
    },
    {
     "name": "stdout",
     "output_type": "stream",
     "text": [
      "Raw Data, Optimized Model\n",
      "RMSE = 13.635803414957818, Accuracy = 86.17%\n",
      "Fitting 3 folds for each of 396 candidates, totalling 1188 fits\n"
     ]
    },
    {
     "name": "stderr",
     "output_type": "stream",
     "text": [
      "[Parallel(n_jobs=-1)]: Using backend LokyBackend with 12 concurrent workers.\n",
      "[Parallel(n_jobs=-1)]: Done  19 tasks      | elapsed:    0.1s\n"
     ]
    },
    {
     "name": "stdout",
     "output_type": "stream",
     "text": [
      "Fitting 3 folds for each of 396 candidates, totalling 1188 fits\n"
     ]
    },
    {
     "name": "stderr",
     "output_type": "stream",
     "text": [
      "[Parallel(n_jobs=-1)]: Using backend LokyBackend with 12 concurrent workers.\n",
      "[Parallel(n_jobs=-1)]: Done  17 tasks      | elapsed:    4.0s\n",
      "[Parallel(n_jobs=-1)]: Done 192 tasks      | elapsed:    5.3s\n",
      "[Parallel(n_jobs=-1)]: Done 598 tasks      | elapsed:    9.9s\n",
      "[Parallel(n_jobs=-1)]: Done 1188 out of 1188 | elapsed:   16.1s finished\n"
     ]
    },
    {
     "name": "stdout",
     "output_type": "stream",
     "text": [
      "Data is scaled with standard scaler, Model is optimized\n",
      "RMSE = 18.160912674281242, Accuracy = 81.58%\n",
      "Fitting 3 folds for each of 396 candidates, totalling 1188 fits\n"
     ]
    },
    {
     "name": "stderr",
     "output_type": "stream",
     "text": [
      "[Parallel(n_jobs=-1)]: Using backend LokyBackend with 12 concurrent workers.\n",
      "[Parallel(n_jobs=-1)]: Done  19 tasks      | elapsed:    0.1s\n"
     ]
    },
    {
     "name": "stdout",
     "output_type": "stream",
     "text": [
      "Fitting 3 folds for each of 396 candidates, totalling 1188 fits\n"
     ]
    },
    {
     "name": "stderr",
     "output_type": "stream",
     "text": [
      "[Parallel(n_jobs=-1)]: Using backend LokyBackend with 12 concurrent workers.\n",
      "[Parallel(n_jobs=-1)]: Done  17 tasks      | elapsed:    3.9s\n",
      "[Parallel(n_jobs=-1)]: Done 192 tasks      | elapsed:    5.2s\n",
      "[Parallel(n_jobs=-1)]: Done 598 tasks      | elapsed:    9.6s\n",
      "[Parallel(n_jobs=-1)]: Done 1165 out of 1188 | elapsed:   15.1s remaining:    0.2s\n",
      "[Parallel(n_jobs=-1)]: Done 1188 out of 1188 | elapsed:   15.7s finished\n"
     ]
    },
    {
     "name": "stdout",
     "output_type": "stream",
     "text": [
      "Data is scaled with standard scaler and high vif features are removed. Model is optimized\n",
      "Using ['CRIM', 'ZN', 'INDUS', 'NOX', 'RM', 'AGE', 'RAD', 'TAX', 'LSTAT'] as features\n",
      "RMSE = 27.631484351417974, Accuracy = 71.97%\n",
      "Fitting 3 folds for each of 396 candidates, totalling 1188 fits\n"
     ]
    },
    {
     "name": "stderr",
     "output_type": "stream",
     "text": [
      "[Parallel(n_jobs=-1)]: Using backend LokyBackend with 12 concurrent workers.\n",
      "[Parallel(n_jobs=-1)]: Done  19 tasks      | elapsed:    0.1s\n"
     ]
    },
    {
     "name": "stdout",
     "output_type": "stream",
     "text": [
      "Fitting 3 folds for each of 396 candidates, totalling 1188 fits\n"
     ]
    },
    {
     "name": "stderr",
     "output_type": "stream",
     "text": [
      "[Parallel(n_jobs=-1)]: Using backend LokyBackend with 12 concurrent workers.\n",
      "[Parallel(n_jobs=-1)]: Done  17 tasks      | elapsed:    4.0s\n",
      "[Parallel(n_jobs=-1)]: Done 192 tasks      | elapsed:    5.2s\n",
      "[Parallel(n_jobs=-1)]: Done 598 tasks      | elapsed:    9.6s\n"
     ]
    },
    {
     "name": "stdout",
     "output_type": "stream",
     "text": [
      "Data is scaled with standard scaler and Smoted. Model is optimized\n",
      "Using ['CRIM', 'ZN', 'INDUS', 'NOX', 'RM', 'AGE', 'LSTAT'] as features\n",
      "RMSE = 25.001730398584588, Accuracy = 74.64%\n"
     ]
    },
    {
     "name": "stderr",
     "output_type": "stream",
     "text": [
      "[Parallel(n_jobs=-1)]: Done 1188 out of 1188 | elapsed:   16.0s finished\n"
     ]
    }
   ],
   "source": [
    "model, df2, scaler, dim = wr.WrapML(df, 'price', 'regression', quiet=False)"
   ]
  },
  {
   "cell_type": "markdown",
   "metadata": {},
   "source": [
    "This is the best model..."
   ]
  },
  {
   "cell_type": "code",
   "execution_count": 17,
   "metadata": {},
   "outputs": [
    {
     "data": {
      "text/plain": [
       "XGBRegressor(base_score=0.5, booster='gbtree', colsample_bylevel=1,\n",
       "             colsample_bynode=1, colsample_bytree=1, gamma=0, gpu_id=-1,\n",
       "             importance_type='gain', interaction_constraints='',\n",
       "             learning_rate=0.1, max_delta_step=0, max_depth=9,\n",
       "             min_child_weight=1, missing=nan, monotone_constraints='()',\n",
       "             n_estimators=100, n_jobs=12, num_parallel_tree=1, random_state=0,\n",
       "             reg_alpha=0, reg_lambda=1, scale_pos_weight=1, subsample=0.5,\n",
       "             tree_method='exact', validate_parameters=1, verbosity=None)"
      ]
     },
     "execution_count": 17,
     "metadata": {},
     "output_type": "execute_result"
    }
   ],
   "source": [
    "model"
   ]
  },
  {
   "cell_type": "code",
   "execution_count": 18,
   "metadata": {},
   "outputs": [
    {
     "name": "stdout",
     "output_type": "stream",
     "text": [
      "None\n"
     ]
    }
   ],
   "source": [
    "print(scaler) #the model preformed best with the raw data"
   ]
  },
  {
   "cell_type": "code",
   "execution_count": 19,
   "metadata": {},
   "outputs": [
    {
     "data": {
      "text/plain": [
       "Index(['CRIM', 'ZN', 'INDUS', 'CHAS', 'NOX', 'RM', 'AGE', 'DIS', 'RAD', 'TAX',\n",
       "       'PTRATIO', 'B', 'LSTAT', 'price'],\n",
       "      dtype='object')"
      ]
     },
     "execution_count": 19,
     "metadata": {},
     "output_type": "execute_result"
    }
   ],
   "source": [
    "df2.columns # the model preformed best with all 13 features as input"
   ]
  },
  {
   "cell_type": "code",
   "execution_count": 20,
   "metadata": {},
   "outputs": [
    {
     "data": {
      "text/plain": [
       "(455, 14)"
      ]
     },
     "execution_count": 20,
     "metadata": {},
     "output_type": "execute_result"
    }
   ],
   "source": [
    "df2.shape"
   ]
  }
 ],
 "metadata": {
  "kernelspec": {
   "display_name": "Python 3",
   "language": "python",
   "name": "python3"
  },
  "language_info": {
   "codemirror_mode": {
    "name": "ipython",
    "version": 3
   },
   "file_extension": ".py",
   "mimetype": "text/x-python",
   "name": "python",
   "nbconvert_exporter": "python",
   "pygments_lexer": "ipython3",
   "version": "3.8.5"
  }
 },
 "nbformat": 4,
 "nbformat_minor": 4
}
